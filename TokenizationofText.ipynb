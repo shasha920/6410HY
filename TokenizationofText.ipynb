{
  "nbformat": 4,
  "nbformat_minor": 0,
  "metadata": {
    "colab": {
      "provenance": []
    },
    "kernelspec": {
      "name": "python3",
      "display_name": "Python 3"
    },
    "language_info": {
      "name": "python"
    }
  },
  "cells": [
    {
      "cell_type": "code",
      "execution_count": 14,
      "metadata": {
        "id": "nX3xilrcU4Ga"
      },
      "outputs": [],
      "source": [
        "#Tokenization with Regex\n",
        "import re"
      ]
    },
    {
      "cell_type": "code",
      "source": [
        "raw=\"\"\"'When I'M a Duchess,' she said to herself, (not in a very hopeful tone\n",
        "... though), 'I won't have any pepper in my kitchen AT ALL. Soup does very\n",
        "... well without--Maybe it's always pepper that makes people hot-tempered,'...\"\"\""
      ],
      "metadata": {
        "id": "CSVVepw2U_tV"
      },
      "execution_count": 15,
      "outputs": []
    },
    {
      "cell_type": "code",
      "source": [
        "re.split(r' ',raw)\n",
        "[\"'When\", \"I'M\", 'a', \"Duchess,'\", 'she', 'said', 'to', 'herself,', '(not', 'in',\n",
        "'a', 'very', 'hopeful', 'tone\\nthough),', \"'I\", \"won't\", 'have', 'any', 'pepper',\n",
        "'in', 'my', 'kitchen', 'AT', 'ALL.', 'Soup', 'does', 'very\\nwell', 'without--Maybe',\n",
        "\"it's\", 'always', 'pepper', 'that', 'makes', 'people', \"hot-tempered,'...\"]\n",
        "re.split(r'[ \\t\\n]+',raw)"
      ],
      "metadata": {
        "colab": {
          "base_uri": "https://localhost:8080/"
        },
        "id": "sRDM05rUVGlu",
        "outputId": "73b7f754-3cff-4f2d-ba88-bf9e71f5e3aa"
      },
      "execution_count": 16,
      "outputs": [
        {
          "output_type": "execute_result",
          "data": {
            "text/plain": [
              "[\"'When\",\n",
              " \"I'M\",\n",
              " 'a',\n",
              " \"Duchess,'\",\n",
              " 'she',\n",
              " 'said',\n",
              " 'to',\n",
              " 'herself,',\n",
              " '(not',\n",
              " 'in',\n",
              " 'a',\n",
              " 'very',\n",
              " 'hopeful',\n",
              " 'tone',\n",
              " 'though),',\n",
              " \"'I\",\n",
              " \"won't\",\n",
              " 'have',\n",
              " 'any',\n",
              " 'pepper',\n",
              " 'in',\n",
              " 'my',\n",
              " 'kitchen',\n",
              " 'AT',\n",
              " 'ALL.',\n",
              " 'Soup',\n",
              " 'does',\n",
              " 'very',\n",
              " 'well',\n",
              " 'without--Maybe',\n",
              " \"it's\",\n",
              " 'always',\n",
              " 'pepper',\n",
              " 'that',\n",
              " 'makes',\n",
              " 'people',\n",
              " \"hot-tempered,'...\"]"
            ]
          },
          "metadata": {},
          "execution_count": 16
        }
      ]
    },
    {
      "cell_type": "code",
      "source": [
        "re.split(r'\\W+', raw)##We can use \\W in a simple regular expression to split the input on anything other than a word character"
      ],
      "metadata": {
        "colab": {
          "base_uri": "https://localhost:8080/"
        },
        "id": "Bez7zvS4WaRv",
        "outputId": "389453cf-74b6-436c-a5c8-7a479381e0c0"
      },
      "execution_count": 20,
      "outputs": [
        {
          "output_type": "execute_result",
          "data": {
            "text/plain": [
              "['',\n",
              " 'When',\n",
              " 'I',\n",
              " 'M',\n",
              " 'a',\n",
              " 'Duchess',\n",
              " 'she',\n",
              " 'said',\n",
              " 'to',\n",
              " 'herself',\n",
              " 'not',\n",
              " 'in',\n",
              " 'a',\n",
              " 'very',\n",
              " 'hopeful',\n",
              " 'tone',\n",
              " 'though',\n",
              " 'I',\n",
              " 'won',\n",
              " 't',\n",
              " 'have',\n",
              " 'any',\n",
              " 'pepper',\n",
              " 'in',\n",
              " 'my',\n",
              " 'kitchen',\n",
              " 'AT',\n",
              " 'ALL',\n",
              " 'Soup',\n",
              " 'does',\n",
              " 'very',\n",
              " 'well',\n",
              " 'without',\n",
              " 'Maybe',\n",
              " 'it',\n",
              " 's',\n",
              " 'always',\n",
              " 'pepper',\n",
              " 'that',\n",
              " 'makes',\n",
              " 'people',\n",
              " 'hot',\n",
              " 'tempered',\n",
              " '']"
            ]
          },
          "metadata": {},
          "execution_count": 20
        }
      ]
    },
    {
      "cell_type": "code",
      "source": [
        "re.findall(r'\\w+|\\S\\w*',raw)"
      ],
      "metadata": {
        "colab": {
          "base_uri": "https://localhost:8080/"
        },
        "id": "NUD8-DcKXFak",
        "outputId": "940a5770-af7a-4eff-91ed-2ce9daf26270"
      },
      "execution_count": 21,
      "outputs": [
        {
          "output_type": "execute_result",
          "data": {
            "text/plain": [
              "[\"'When\",\n",
              " 'I',\n",
              " \"'M\",\n",
              " 'a',\n",
              " 'Duchess',\n",
              " ',',\n",
              " \"'\",\n",
              " 'she',\n",
              " 'said',\n",
              " 'to',\n",
              " 'herself',\n",
              " ',',\n",
              " '(not',\n",
              " 'in',\n",
              " 'a',\n",
              " 'very',\n",
              " 'hopeful',\n",
              " 'tone',\n",
              " 'though',\n",
              " ')',\n",
              " ',',\n",
              " \"'I\",\n",
              " 'won',\n",
              " \"'t\",\n",
              " 'have',\n",
              " 'any',\n",
              " 'pepper',\n",
              " 'in',\n",
              " 'my',\n",
              " 'kitchen',\n",
              " 'AT',\n",
              " 'ALL',\n",
              " '.',\n",
              " 'Soup',\n",
              " 'does',\n",
              " 'very',\n",
              " 'well',\n",
              " 'without',\n",
              " '-',\n",
              " '-Maybe',\n",
              " 'it',\n",
              " \"'s\",\n",
              " 'always',\n",
              " 'pepper',\n",
              " 'that',\n",
              " 'makes',\n",
              " 'people',\n",
              " 'hot',\n",
              " '-tempered',\n",
              " ',',\n",
              " \"'\",\n",
              " '.',\n",
              " '.',\n",
              " '.']"
            ]
          },
          "metadata": {},
          "execution_count": 21
        }
      ]
    },
    {
      "cell_type": "code",
      "source": [
        "#Let's generalize the \\w+ in the preceding expression to permit word-internal hyphens\n",
        "#and apostrophes: «\\w+([-']\\w+)*». This expression means \\w+ followed by zero or more\n",
        "#instances of [-']\\w+; it would match hot-tempered and it's.(We need to include ?: in\n",
        "#this expression for reasons discussed earlier.) We'll also add a pattern to match quote\n",
        "#characters so these are kept separate from the text they enclose.\n",
        "print(re.findall(r\"\\w+(?:[-']\\w+)*|'|[-.(]+|\\S\\w*\",raw))"
      ],
      "metadata": {
        "colab": {
          "base_uri": "https://localhost:8080/"
        },
        "id": "jlcHfP8QXUgL",
        "outputId": "98f72500-bdf9-401d-e7e5-545245990d5f"
      },
      "execution_count": 22,
      "outputs": [
        {
          "output_type": "stream",
          "name": "stdout",
          "text": [
            "[\"'\", 'When', \"I'M\", 'a', 'Duchess', ',', \"'\", 'she', 'said', 'to', 'herself', ',', '(', 'not', 'in', 'a', 'very', 'hopeful', 'tone', 'though', ')', ',', \"'\", 'I', \"won't\", 'have', 'any', 'pepper', 'in', 'my', 'kitchen', 'AT', 'ALL', '.', 'Soup', 'does', 'very', 'well', 'without', '--', 'Maybe', \"it's\", 'always', 'pepper', 'that', 'makes', 'people', 'hot-tempered', ',', \"'\", '...']\n"
          ]
        }
      ]
    },
    {
      "cell_type": "code",
      "source": [
        "#Natural Language Processing with Python NLTK\n",
        "#Install nltk pip install NLTK"
      ],
      "metadata": {
        "id": "DclzayRxZaHQ"
      },
      "execution_count": 23,
      "outputs": []
    },
    {
      "cell_type": "code",
      "source": [
        "!pip install nltk"
      ],
      "metadata": {
        "colab": {
          "base_uri": "https://localhost:8080/"
        },
        "id": "V8xxQ2BaZi3q",
        "outputId": "261f9739-d2b2-477d-b014-2387d5271b40"
      },
      "execution_count": 38,
      "outputs": [
        {
          "output_type": "stream",
          "name": "stdout",
          "text": [
            "Looking in indexes: https://pypi.org/simple, https://us-python.pkg.dev/colab-wheels/public/simple/\n",
            "Requirement already satisfied: nltk in /usr/local/lib/python3.10/dist-packages (3.8.1)\n",
            "Requirement already satisfied: click in /usr/local/lib/python3.10/dist-packages (from nltk) (8.1.3)\n",
            "Requirement already satisfied: joblib in /usr/local/lib/python3.10/dist-packages (from nltk) (1.2.0)\n",
            "Requirement already satisfied: regex>=2021.8.3 in /usr/local/lib/python3.10/dist-packages (from nltk) (2022.10.31)\n",
            "Requirement already satisfied: tqdm in /usr/local/lib/python3.10/dist-packages (from nltk) (4.65.0)\n"
          ]
        }
      ]
    },
    {
      "cell_type": "code",
      "source": [
        "import nltk"
      ],
      "metadata": {
        "id": "VMojSVEsZmVP"
      },
      "execution_count": 39,
      "outputs": []
    },
    {
      "cell_type": "code",
      "source": [
        "nltk.__version__"
      ],
      "metadata": {
        "colab": {
          "base_uri": "https://localhost:8080/",
          "height": 35
        },
        "id": "D0oR_R44ZoC6",
        "outputId": "49c9e193-0e06-4067-ba01-a3ea1209f1fe"
      },
      "execution_count": 40,
      "outputs": [
        {
          "output_type": "execute_result",
          "data": {
            "text/plain": [
              "'3.8.1'"
            ],
            "application/vnd.google.colaboratory.intrinsic+json": {
              "type": "string"
            }
          },
          "metadata": {},
          "execution_count": 40
        }
      ]
    },
    {
      "cell_type": "code",
      "source": [
        "#pip list gives you the list of installed packages"
      ],
      "metadata": {
        "id": "gOkWhjXeZywi"
      },
      "execution_count": 33,
      "outputs": []
    },
    {
      "cell_type": "code",
      "source": [
        "#nltk.download()#download all packages for NLTK"
      ],
      "metadata": {
        "id": "-Fccdi1sZqnO"
      },
      "execution_count": 44,
      "outputs": []
    },
    {
      "cell_type": "code",
      "source": [
        "#DiCaprio's Oscars Acceptance Speech\n",
        "#https://www.bustle.com/articles/144803-transcript-of-leonardo-dicaprios-oscars-acceptance-speech-gets-political-about-climate-change-video\n",
        "\n",
        "paragraph=\"\"\"Thank you all so very much. Thank you to the Academy.\n",
        "               Thank you to all of you in this room. I have to congratulate\n",
        "               the other incredible nominees this year. The Revenant was\n",
        "               the product of the tireless efforts of an unbelievable cast\n",
        "               and crew. First off, to my brother in this endeavor, Mr. Tom\n",
        "               Hardy. Tom, your talent on screen can only be surpassed by\n",
        "               your friendship off screen … thank you for creating a t\n",
        "               ranscendent cinematic experience. Thank you to everybody at\n",
        "               Fox and New Regency … my entire team. I have to thank\n",
        "               everyone from the very onset of my career … To my parents;\n",
        "               none of this would be possible without you. And to my\n",
        "               friends, I love you dearly; you know who you are. And lastly,\n",
        "               I just want to say this: Making The Revenant was about\n",
        "               man's relationship to the natural world. A world that we\n",
        "               collectively felt in 2015 as the hottest year in recorded\n",
        "               history. Our production needed to move to the southern\n",
        "               tip of this planet just to be able to find snow. Climate\n",
        "               change is real, it is happening right now. It is the most\n",
        "               urgent threat facing our entire species, and we need to work\n",
        "               collectively together and stop procrastinating. We need to\n",
        "               support leaders around the world who do not speak for the\n",
        "               big polluters, but who speak for all of humanity, for the\n",
        "               indigenous people of the world, for the billions and\n",
        "               billions of underprivileged people out there who would be\n",
        "               most affected by this. For our children’s children, and\n",
        "               for those people out there whose voices have been drowned\n",
        "               out by the politics of greed. I thank you all for this\n",
        "               amazing award tonight. Let us not take this planet for\n",
        "               granted. I do not take tonight for granted. Thank you so very much.\"\"\""
      ],
      "metadata": {
        "id": "5fodpX1QZ9oZ"
      },
      "execution_count": 35,
      "outputs": []
    },
    {
      "cell_type": "code",
      "source": [
        "paragraph"
      ],
      "metadata": {
        "colab": {
          "base_uri": "https://localhost:8080/",
          "height": 107
        },
        "id": "C4NfvXqcaXhc",
        "outputId": "b9fd295f-4dab-4f40-e471-2e0aab7f8f82"
      },
      "execution_count": 36,
      "outputs": [
        {
          "output_type": "execute_result",
          "data": {
            "text/plain": [
              "\"Thank you all so very much. Thank you to the Academy. \\n               Thank you to all of you in this room. I have to congratulate \\n               the other incredible nominees this year. The Revenant was \\n               the product of the tireless efforts of an unbelievable cast\\n               and crew. First off, to my brother in this endeavor, Mr. Tom \\n               Hardy. Tom, your talent on screen can only be surpassed by \\n               your friendship off screen … thank you for creating a t\\n               ranscendent cinematic experience. Thank you to everybody at \\n               Fox and New Regency … my entire team. I have to thank \\n               everyone from the very onset of my career … To my parents; \\n               none of this would be possible without you. And to my \\n               friends, I love you dearly; you know who you are. And lastly,\\n               I just want to say this: Making The Revenant was about\\n               man's relationship to the natural world. A world that we\\n               collectively felt in 2015 as the hottest year in recorded\\n               history. Our production needed to move to the southern\\n               tip of this planet just to be able to find snow. Climate\\n               change is real, it is happening right now. It is the most\\n               urgent threat facing our entire species, and we need to work\\n               collectively together and stop procrastinating. We need to\\n               support leaders around the world who do not speak for the \\n               big polluters, but who speak for all of humanity, for the\\n               indigenous people of the world, for the billions and \\n               billions of underprivileged people out there who would be\\n               most affected by this. For our children’s children, and \\n               for those people out there whose voices have been drowned\\n               out by the politics of greed. I thank you all for this \\n               amazing award tonight. Let us not take this planet for \\n               granted. I do not take tonight for granted. Thank you so very much.\""
            ],
            "application/vnd.google.colaboratory.intrinsic+json": {
              "type": "string"
            }
          },
          "metadata": {},
          "execution_count": 36
        }
      ]
    },
    {
      "cell_type": "code",
      "source": [
        "nltk.download('punkt')"
      ],
      "metadata": {
        "colab": {
          "base_uri": "https://localhost:8080/"
        },
        "id": "2g5kGjKtaypp",
        "outputId": "fa4f7d57-c2be-4bb0-ae5b-77e2b0a34fa3"
      },
      "execution_count": 42,
      "outputs": [
        {
          "output_type": "stream",
          "name": "stderr",
          "text": [
            "[nltk_data] Downloading package punkt to /root/nltk_data...\n",
            "[nltk_data]   Unzipping tokenizers/punkt.zip.\n"
          ]
        },
        {
          "output_type": "execute_result",
          "data": {
            "text/plain": [
              "True"
            ]
          },
          "metadata": {},
          "execution_count": 42
        }
      ]
    },
    {
      "cell_type": "code",
      "source": [
        "#Tokenizing sentences\n",
        "sentences=nltk.sent_tokenize(paragraph)"
      ],
      "metadata": {
        "id": "rbM-uNlNaY4K"
      },
      "execution_count": 43,
      "outputs": []
    },
    {
      "cell_type": "code",
      "source": [
        "len(sentences)"
      ],
      "metadata": {
        "colab": {
          "base_uri": "https://localhost:8080/"
        },
        "id": "DhMxKTiTa5Kk",
        "outputId": "da5f13fc-590b-4fc1-8e1a-78df134e558d"
      },
      "execution_count": 45,
      "outputs": [
        {
          "output_type": "execute_result",
          "data": {
            "text/plain": [
              "21"
            ]
          },
          "metadata": {},
          "execution_count": 45
        }
      ]
    },
    {
      "cell_type": "code",
      "source": [
        "type(sentences)"
      ],
      "metadata": {
        "colab": {
          "base_uri": "https://localhost:8080/"
        },
        "id": "Ox_CAY0Aa7Im",
        "outputId": "f0ee9e80-6a51-4b63-8b87-98f3babd4188"
      },
      "execution_count": 46,
      "outputs": [
        {
          "output_type": "execute_result",
          "data": {
            "text/plain": [
              "list"
            ]
          },
          "metadata": {},
          "execution_count": 46
        }
      ]
    },
    {
      "cell_type": "code",
      "source": [
        "sentences[0]"
      ],
      "metadata": {
        "colab": {
          "base_uri": "https://localhost:8080/",
          "height": 35
        },
        "id": "jjgVywmta9uP",
        "outputId": "d8501463-d7e7-4915-f712-1cd898de998b"
      },
      "execution_count": 47,
      "outputs": [
        {
          "output_type": "execute_result",
          "data": {
            "text/plain": [
              "'Thank you all so very much.'"
            ],
            "application/vnd.google.colaboratory.intrinsic+json": {
              "type": "string"
            }
          },
          "metadata": {},
          "execution_count": 47
        }
      ]
    },
    {
      "cell_type": "code",
      "source": [
        "for x in sentences:\n",
        "  print(x)"
      ],
      "metadata": {
        "colab": {
          "base_uri": "https://localhost:8080/"
        },
        "id": "D8X7s5vXbANm",
        "outputId": "1ed158fb-c25b-4a25-87f4-80fd278fea02"
      },
      "execution_count": 48,
      "outputs": [
        {
          "output_type": "stream",
          "name": "stdout",
          "text": [
            "Thank you all so very much.\n",
            "Thank you to the Academy.\n",
            "Thank you to all of you in this room.\n",
            "I have to congratulate \n",
            "               the other incredible nominees this year.\n",
            "The Revenant was \n",
            "               the product of the tireless efforts of an unbelievable cast\n",
            "               and crew.\n",
            "First off, to my brother in this endeavor, Mr. Tom \n",
            "               Hardy.\n",
            "Tom, your talent on screen can only be surpassed by \n",
            "               your friendship off screen … thank you for creating a t\n",
            "               ranscendent cinematic experience.\n",
            "Thank you to everybody at \n",
            "               Fox and New Regency … my entire team.\n",
            "I have to thank \n",
            "               everyone from the very onset of my career … To my parents; \n",
            "               none of this would be possible without you.\n",
            "And to my \n",
            "               friends, I love you dearly; you know who you are.\n",
            "And lastly,\n",
            "               I just want to say this: Making The Revenant was about\n",
            "               man's relationship to the natural world.\n",
            "A world that we\n",
            "               collectively felt in 2015 as the hottest year in recorded\n",
            "               history.\n",
            "Our production needed to move to the southern\n",
            "               tip of this planet just to be able to find snow.\n",
            "Climate\n",
            "               change is real, it is happening right now.\n",
            "It is the most\n",
            "               urgent threat facing our entire species, and we need to work\n",
            "               collectively together and stop procrastinating.\n",
            "We need to\n",
            "               support leaders around the world who do not speak for the \n",
            "               big polluters, but who speak for all of humanity, for the\n",
            "               indigenous people of the world, for the billions and \n",
            "               billions of underprivileged people out there who would be\n",
            "               most affected by this.\n",
            "For our children’s children, and \n",
            "               for those people out there whose voices have been drowned\n",
            "               out by the politics of greed.\n",
            "I thank you all for this \n",
            "               amazing award tonight.\n",
            "Let us not take this planet for \n",
            "               granted.\n",
            "I do not take tonight for granted.\n",
            "Thank you so very much.\n"
          ]
        }
      ]
    },
    {
      "cell_type": "code",
      "source": [
        "#Tokenizing words\n",
        "words=nltk.word_tokenize(paragraph)"
      ],
      "metadata": {
        "id": "fNGgw3zQbgGP"
      },
      "execution_count": 49,
      "outputs": []
    },
    {
      "cell_type": "code",
      "source": [
        "len(words)"
      ],
      "metadata": {
        "colab": {
          "base_uri": "https://localhost:8080/"
        },
        "id": "8cVI-jfVbmig",
        "outputId": "236e2d74-208b-49ca-e4d1-c163c1392ac3"
      },
      "execution_count": 50,
      "outputs": [
        {
          "output_type": "execute_result",
          "data": {
            "text/plain": [
              "347"
            ]
          },
          "metadata": {},
          "execution_count": 50
        }
      ]
    },
    {
      "cell_type": "code",
      "source": [
        "words"
      ],
      "metadata": {
        "colab": {
          "base_uri": "https://localhost:8080/"
        },
        "id": "Zu36IhXWboTg",
        "outputId": "279c2b0b-4e7e-4b3f-bb85-56fdb043a9f6"
      },
      "execution_count": 51,
      "outputs": [
        {
          "output_type": "execute_result",
          "data": {
            "text/plain": [
              "['Thank',\n",
              " 'you',\n",
              " 'all',\n",
              " 'so',\n",
              " 'very',\n",
              " 'much',\n",
              " '.',\n",
              " 'Thank',\n",
              " 'you',\n",
              " 'to',\n",
              " 'the',\n",
              " 'Academy',\n",
              " '.',\n",
              " 'Thank',\n",
              " 'you',\n",
              " 'to',\n",
              " 'all',\n",
              " 'of',\n",
              " 'you',\n",
              " 'in',\n",
              " 'this',\n",
              " 'room',\n",
              " '.',\n",
              " 'I',\n",
              " 'have',\n",
              " 'to',\n",
              " 'congratulate',\n",
              " 'the',\n",
              " 'other',\n",
              " 'incredible',\n",
              " 'nominees',\n",
              " 'this',\n",
              " 'year',\n",
              " '.',\n",
              " 'The',\n",
              " 'Revenant',\n",
              " 'was',\n",
              " 'the',\n",
              " 'product',\n",
              " 'of',\n",
              " 'the',\n",
              " 'tireless',\n",
              " 'efforts',\n",
              " 'of',\n",
              " 'an',\n",
              " 'unbelievable',\n",
              " 'cast',\n",
              " 'and',\n",
              " 'crew',\n",
              " '.',\n",
              " 'First',\n",
              " 'off',\n",
              " ',',\n",
              " 'to',\n",
              " 'my',\n",
              " 'brother',\n",
              " 'in',\n",
              " 'this',\n",
              " 'endeavor',\n",
              " ',',\n",
              " 'Mr.',\n",
              " 'Tom',\n",
              " 'Hardy',\n",
              " '.',\n",
              " 'Tom',\n",
              " ',',\n",
              " 'your',\n",
              " 'talent',\n",
              " 'on',\n",
              " 'screen',\n",
              " 'can',\n",
              " 'only',\n",
              " 'be',\n",
              " 'surpassed',\n",
              " 'by',\n",
              " 'your',\n",
              " 'friendship',\n",
              " 'off',\n",
              " 'screen',\n",
              " '…',\n",
              " 'thank',\n",
              " 'you',\n",
              " 'for',\n",
              " 'creating',\n",
              " 'a',\n",
              " 't',\n",
              " 'ranscendent',\n",
              " 'cinematic',\n",
              " 'experience',\n",
              " '.',\n",
              " 'Thank',\n",
              " 'you',\n",
              " 'to',\n",
              " 'everybody',\n",
              " 'at',\n",
              " 'Fox',\n",
              " 'and',\n",
              " 'New',\n",
              " 'Regency',\n",
              " '…',\n",
              " 'my',\n",
              " 'entire',\n",
              " 'team',\n",
              " '.',\n",
              " 'I',\n",
              " 'have',\n",
              " 'to',\n",
              " 'thank',\n",
              " 'everyone',\n",
              " 'from',\n",
              " 'the',\n",
              " 'very',\n",
              " 'onset',\n",
              " 'of',\n",
              " 'my',\n",
              " 'career',\n",
              " '…',\n",
              " 'To',\n",
              " 'my',\n",
              " 'parents',\n",
              " ';',\n",
              " 'none',\n",
              " 'of',\n",
              " 'this',\n",
              " 'would',\n",
              " 'be',\n",
              " 'possible',\n",
              " 'without',\n",
              " 'you',\n",
              " '.',\n",
              " 'And',\n",
              " 'to',\n",
              " 'my',\n",
              " 'friends',\n",
              " ',',\n",
              " 'I',\n",
              " 'love',\n",
              " 'you',\n",
              " 'dearly',\n",
              " ';',\n",
              " 'you',\n",
              " 'know',\n",
              " 'who',\n",
              " 'you',\n",
              " 'are',\n",
              " '.',\n",
              " 'And',\n",
              " 'lastly',\n",
              " ',',\n",
              " 'I',\n",
              " 'just',\n",
              " 'want',\n",
              " 'to',\n",
              " 'say',\n",
              " 'this',\n",
              " ':',\n",
              " 'Making',\n",
              " 'The',\n",
              " 'Revenant',\n",
              " 'was',\n",
              " 'about',\n",
              " 'man',\n",
              " \"'s\",\n",
              " 'relationship',\n",
              " 'to',\n",
              " 'the',\n",
              " 'natural',\n",
              " 'world',\n",
              " '.',\n",
              " 'A',\n",
              " 'world',\n",
              " 'that',\n",
              " 'we',\n",
              " 'collectively',\n",
              " 'felt',\n",
              " 'in',\n",
              " '2015',\n",
              " 'as',\n",
              " 'the',\n",
              " 'hottest',\n",
              " 'year',\n",
              " 'in',\n",
              " 'recorded',\n",
              " 'history',\n",
              " '.',\n",
              " 'Our',\n",
              " 'production',\n",
              " 'needed',\n",
              " 'to',\n",
              " 'move',\n",
              " 'to',\n",
              " 'the',\n",
              " 'southern',\n",
              " 'tip',\n",
              " 'of',\n",
              " 'this',\n",
              " 'planet',\n",
              " 'just',\n",
              " 'to',\n",
              " 'be',\n",
              " 'able',\n",
              " 'to',\n",
              " 'find',\n",
              " 'snow',\n",
              " '.',\n",
              " 'Climate',\n",
              " 'change',\n",
              " 'is',\n",
              " 'real',\n",
              " ',',\n",
              " 'it',\n",
              " 'is',\n",
              " 'happening',\n",
              " 'right',\n",
              " 'now',\n",
              " '.',\n",
              " 'It',\n",
              " 'is',\n",
              " 'the',\n",
              " 'most',\n",
              " 'urgent',\n",
              " 'threat',\n",
              " 'facing',\n",
              " 'our',\n",
              " 'entire',\n",
              " 'species',\n",
              " ',',\n",
              " 'and',\n",
              " 'we',\n",
              " 'need',\n",
              " 'to',\n",
              " 'work',\n",
              " 'collectively',\n",
              " 'together',\n",
              " 'and',\n",
              " 'stop',\n",
              " 'procrastinating',\n",
              " '.',\n",
              " 'We',\n",
              " 'need',\n",
              " 'to',\n",
              " 'support',\n",
              " 'leaders',\n",
              " 'around',\n",
              " 'the',\n",
              " 'world',\n",
              " 'who',\n",
              " 'do',\n",
              " 'not',\n",
              " 'speak',\n",
              " 'for',\n",
              " 'the',\n",
              " 'big',\n",
              " 'polluters',\n",
              " ',',\n",
              " 'but',\n",
              " 'who',\n",
              " 'speak',\n",
              " 'for',\n",
              " 'all',\n",
              " 'of',\n",
              " 'humanity',\n",
              " ',',\n",
              " 'for',\n",
              " 'the',\n",
              " 'indigenous',\n",
              " 'people',\n",
              " 'of',\n",
              " 'the',\n",
              " 'world',\n",
              " ',',\n",
              " 'for',\n",
              " 'the',\n",
              " 'billions',\n",
              " 'and',\n",
              " 'billions',\n",
              " 'of',\n",
              " 'underprivileged',\n",
              " 'people',\n",
              " 'out',\n",
              " 'there',\n",
              " 'who',\n",
              " 'would',\n",
              " 'be',\n",
              " 'most',\n",
              " 'affected',\n",
              " 'by',\n",
              " 'this',\n",
              " '.',\n",
              " 'For',\n",
              " 'our',\n",
              " 'children',\n",
              " '’',\n",
              " 's',\n",
              " 'children',\n",
              " ',',\n",
              " 'and',\n",
              " 'for',\n",
              " 'those',\n",
              " 'people',\n",
              " 'out',\n",
              " 'there',\n",
              " 'whose',\n",
              " 'voices',\n",
              " 'have',\n",
              " 'been',\n",
              " 'drowned',\n",
              " 'out',\n",
              " 'by',\n",
              " 'the',\n",
              " 'politics',\n",
              " 'of',\n",
              " 'greed',\n",
              " '.',\n",
              " 'I',\n",
              " 'thank',\n",
              " 'you',\n",
              " 'all',\n",
              " 'for',\n",
              " 'this',\n",
              " 'amazing',\n",
              " 'award',\n",
              " 'tonight',\n",
              " '.',\n",
              " 'Let',\n",
              " 'us',\n",
              " 'not',\n",
              " 'take',\n",
              " 'this',\n",
              " 'planet',\n",
              " 'for',\n",
              " 'granted',\n",
              " '.',\n",
              " 'I',\n",
              " 'do',\n",
              " 'not',\n",
              " 'take',\n",
              " 'tonight',\n",
              " 'for',\n",
              " 'granted',\n",
              " '.',\n",
              " 'Thank',\n",
              " 'you',\n",
              " 'so',\n",
              " 'very',\n",
              " 'much',\n",
              " '.']"
            ]
          },
          "metadata": {},
          "execution_count": 51
        }
      ]
    }
  ]
}