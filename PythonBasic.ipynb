{
  "nbformat": 4,
  "nbformat_minor": 0,
  "metadata": {
    "colab": {
      "provenance": []
    },
    "kernelspec": {
      "name": "python3",
      "display_name": "Python 3"
    },
    "language_info": {
      "name": "python"
    }
  },
  "cells": [
    {
      "cell_type": "code",
      "execution_count": 1,
      "metadata": {
        "colab": {
          "base_uri": "https://localhost:8080/"
        },
        "id": "DFet0e5kNJlW",
        "outputId": "5b92ab1e-8a6b-4206-d221-d005a58d9bcf"
      },
      "outputs": [
        {
          "output_type": "stream",
          "name": "stdout",
          "text": [
            "Hello World\n"
          ]
        }
      ],
      "source": [
        "print('Hello World')"
      ]
    },
    {
      "cell_type": "code",
      "source": [
        "print(\"David's Car\")"
      ],
      "metadata": {
        "colab": {
          "base_uri": "https://localhost:8080/"
        },
        "id": "RgTFBcPlhZ46",
        "outputId": "ae63d1c8-72a1-4f68-96b2-d0df037d0fec"
      },
      "execution_count": 2,
      "outputs": [
        {
          "output_type": "stream",
          "name": "stdout",
          "text": [
            "David's Car\n"
          ]
        }
      ]
    },
    {
      "cell_type": "code",
      "source": [
        "print(\"Hello World\")"
      ],
      "metadata": {
        "colab": {
          "base_uri": "https://localhost:8080/"
        },
        "id": "kYmrhFYShef8",
        "outputId": "fc8b48d9-94be-4f64-d429-0f32772ec4c3"
      },
      "execution_count": 3,
      "outputs": [
        {
          "output_type": "stream",
          "name": "stdout",
          "text": [
            "Hello World\n"
          ]
        }
      ]
    },
    {
      "cell_type": "code",
      "source": [
        "print(\"\"\"1This is some nulti line text\n",
        "2This is some nulti line text\n",
        "3This is some nulti line text\"\"\")"
      ],
      "metadata": {
        "colab": {
          "base_uri": "https://localhost:8080/"
        },
        "id": "ELmk3pz7hih9",
        "outputId": "ed9c55d6-ec1b-4208-9a2b-d54e54baa89e"
      },
      "execution_count": 4,
      "outputs": [
        {
          "output_type": "stream",
          "name": "stdout",
          "text": [
            "1This is some nulti line text\n",
            "2This is some nulti line text\n",
            "3This is some nulti line text\n"
          ]
        }
      ]
    },
    {
      "cell_type": "code",
      "source": [
        "print(\"Hello\"[0:3])"
      ],
      "metadata": {
        "colab": {
          "base_uri": "https://localhost:8080/"
        },
        "id": "--J_rYsphtH2",
        "outputId": "fc340a93-90f0-45b0-ae80-9dfce24e854b"
      },
      "execution_count": 5,
      "outputs": [
        {
          "output_type": "stream",
          "name": "stdout",
          "text": [
            "Hel\n"
          ]
        }
      ]
    },
    {
      "cell_type": "code",
      "source": [
        "print(2)"
      ],
      "metadata": {
        "colab": {
          "base_uri": "https://localhost:8080/"
        },
        "id": "MZULMVOShx51",
        "outputId": "36d4d293-c33e-43a5-b285-f656b8823320"
      },
      "execution_count": 6,
      "outputs": [
        {
          "output_type": "stream",
          "name": "stdout",
          "text": [
            "2\n"
          ]
        }
      ]
    },
    {
      "cell_type": "code",
      "source": [
        "print(1,2,3,\"Hello\")"
      ],
      "metadata": {
        "colab": {
          "base_uri": "https://localhost:8080/"
        },
        "id": "E44223ofhz94",
        "outputId": "f12c4c38-479c-4dc4-ac68-9b7e6f348d2c"
      },
      "execution_count": 7,
      "outputs": [
        {
          "output_type": "stream",
          "name": "stdout",
          "text": [
            "1 2 3 Hello\n"
          ]
        }
      ]
    },
    {
      "cell_type": "code",
      "source": [
        "print('Line1\\nLine2\\nLine3')"
      ],
      "metadata": {
        "colab": {
          "base_uri": "https://localhost:8080/"
        },
        "id": "qZsh226Oh3qE",
        "outputId": "2ebd9a20-143b-44ac-a4cf-a7cb3455a2ea"
      },
      "execution_count": 9,
      "outputs": [
        {
          "output_type": "stream",
          "name": "stdout",
          "text": [
            "Line1\n",
            "Line2\n",
            "Line3\n"
          ]
        }
      ]
    },
    {
      "cell_type": "code",
      "source": [
        "print('C:\\Somewhere\\ni')"
      ],
      "metadata": {
        "colab": {
          "base_uri": "https://localhost:8080/"
        },
        "id": "N4PqkdLgiBco",
        "outputId": "683e3e84-2f50-4cb9-e4dd-1aae40df0a50"
      },
      "execution_count": 10,
      "outputs": [
        {
          "output_type": "stream",
          "name": "stdout",
          "text": [
            "C:\\Somewhere\n",
            "i\n"
          ]
        }
      ]
    },
    {
      "cell_type": "code",
      "source": [
        "print(r'C:Somewhere\\ni')#r means string treated as a raw string"
      ],
      "metadata": {
        "colab": {
          "base_uri": "https://localhost:8080/"
        },
        "id": "WtFFhKZeiUdj",
        "outputId": "89e0d0be-9026-4084-89bd-65568fb98a1b"
      },
      "execution_count": 12,
      "outputs": [
        {
          "output_type": "stream",
          "name": "stdout",
          "text": [
            "C:Somewhere\\ni\n"
          ]
        }
      ]
    },
    {
      "cell_type": "code",
      "source": [
        "greeting='Hello World'\n",
        "greeting=\"Hello everyone\" #reassignment"
      ],
      "metadata": {
        "id": "ziBVU3fbif_z"
      },
      "execution_count": 13,
      "outputs": []
    },
    {
      "cell_type": "code",
      "source": [
        "print(greeting)\n",
        "greeting=2\n",
        "greeting"
      ],
      "metadata": {
        "colab": {
          "base_uri": "https://localhost:8080/"
        },
        "id": "RHY5Dwc4ip0M",
        "outputId": "55fa872c-f72c-402b-957e-f991a10cdb54"
      },
      "execution_count": 14,
      "outputs": [
        {
          "output_type": "stream",
          "name": "stdout",
          "text": [
            "Hello everyone\n"
          ]
        },
        {
          "output_type": "execute_result",
          "data": {
            "text/plain": [
              "2"
            ]
          },
          "metadata": {},
          "execution_count": 14
        }
      ]
    },
    {
      "cell_type": "code",
      "source": [
        "myStr=\"Hello\"\n",
        "myInt=25 #Int, or integer, is whole number, positive or negative, without decimals, of unlimited length.\n",
        "myFloat=1.3\n",
        "myList=[1,2,3,'Hello']\n",
        "myDict={'a':1,'b':(2,1),'c':3}"
      ],
      "metadata": {
        "id": "GTB3Qz84ix5o"
      },
      "execution_count": 16,
      "outputs": []
    },
    {
      "cell_type": "code",
      "source": [
        "#print(type(myStr),myStr)\n",
        "print(type(myInt),myInt)\n",
        "print(type(myFloat),myFloat)\n",
        "print(type(myList),myList)\n",
        "print(type(myDict),myDict)"
      ],
      "metadata": {
        "colab": {
          "base_uri": "https://localhost:8080/"
        },
        "id": "xmNdsnVmjMEW",
        "outputId": "50fd9567-f3bb-4ad4-e2a3-2f56a8655f5b"
      },
      "execution_count": 17,
      "outputs": [
        {
          "output_type": "stream",
          "name": "stdout",
          "text": [
            "<class 'int'> 25\n",
            "<class 'float'> 1.3\n",
            "<class 'list'> [1, 2, 3, 'Hello']\n",
            "<class 'dict'> {'a': 1, 'b': (2, 1), 'c': 3}\n"
          ]
        }
      ]
    },
    {
      "cell_type": "code",
      "source": [
        "print(myList[2])\n",
        "print(myDict['b'])"
      ],
      "metadata": {
        "colab": {
          "base_uri": "https://localhost:8080/"
        },
        "id": "tZ_DO43IjiYM",
        "outputId": "b87f476c-e521-4f6f-ce55-a38fbbbb95e9"
      },
      "execution_count": 18,
      "outputs": [
        {
          "output_type": "stream",
          "name": "stdout",
          "text": [
            "3\n",
            "(2, 1)\n"
          ]
        }
      ]
    },
    {
      "cell_type": "code",
      "source": [
        "print(myStr,'World')\n",
        "greeting=myStr+' World'\n",
        "print(greeting)"
      ],
      "metadata": {
        "colab": {
          "base_uri": "https://localhost:8080/"
        },
        "id": "xU9DMIFgjsLz",
        "outputId": "0fce25e4-0f47-41a7-96a1-c1a2c5263c19"
      },
      "execution_count": 20,
      "outputs": [
        {
          "output_type": "stream",
          "name": "stdout",
          "text": [
            "Hello World\n",
            "Hello World\n"
          ]
        }
      ]
    },
    {
      "cell_type": "code",
      "source": [
        "#Casting:\n",
        "x=int(\"1\")\n",
        "y=float('3.8')\n",
        "z=str(3)\n",
        "x,y,z"
      ],
      "metadata": {
        "colab": {
          "base_uri": "https://localhost:8080/"
        },
        "id": "BotcVGfyj0cK",
        "outputId": "b935e57c-47e5-4635-c41b-0ddbf921132a"
      },
      "execution_count": 21,
      "outputs": [
        {
          "output_type": "execute_result",
          "data": {
            "text/plain": [
              "(1, 3.8, '3')"
            ]
          },
          "metadata": {},
          "execution_count": 21
        }
      ]
    },
    {
      "cell_type": "code",
      "source": [
        "myList?\n",
        "#called introspection"
      ],
      "metadata": {
        "id": "R7cXsbuSkLbQ"
      },
      "execution_count": 23,
      "outputs": []
    },
    {
      "cell_type": "code",
      "source": [
        "print?"
      ],
      "metadata": {
        "id": "hY27oAqDkbGq"
      },
      "execution_count": 24,
      "outputs": []
    },
    {
      "cell_type": "code",
      "source": [
        "#shows the function's source code if possible\n",
        "print??"
      ],
      "metadata": {
        "id": "5ficBb-PkdqK"
      },
      "execution_count": 25,
      "outputs": []
    }
  ]
}