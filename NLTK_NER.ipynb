{
  "nbformat": 4,
  "nbformat_minor": 0,
  "metadata": {
    "colab": {
      "provenance": []
    },
    "kernelspec": {
      "name": "python3",
      "display_name": "Python 3"
    },
    "language_info": {
      "name": "python"
    }
  },
  "cells": [
    {
      "cell_type": "code",
      "execution_count": 1,
      "metadata": {
        "id": "Nd-oUBi8BvJz"
      },
      "outputs": [],
      "source": [
        "import nltk"
      ]
    },
    {
      "cell_type": "code",
      "source": [
        "nltk.download('punkt')\n",
        "nltk.download('averaged_perceptron_tagger')\n",
        "nltk.download('maxent_ne_chunker')\n",
        "nltk.download('words')"
      ],
      "metadata": {
        "colab": {
          "base_uri": "https://localhost:8080/"
        },
        "id": "E4C6ElY3B-w_",
        "outputId": "75f6dd29-8f6a-40ea-865a-42544df4d97f"
      },
      "execution_count": 14,
      "outputs": [
        {
          "output_type": "stream",
          "name": "stderr",
          "text": [
            "[nltk_data] Downloading package punkt to /root/nltk_data...\n",
            "[nltk_data]   Package punkt is already up-to-date!\n",
            "[nltk_data] Downloading package averaged_perceptron_tagger to\n",
            "[nltk_data]     /root/nltk_data...\n",
            "[nltk_data]   Package averaged_perceptron_tagger is already up-to-\n",
            "[nltk_data]       date!\n",
            "[nltk_data] Downloading package maxent_ne_chunker to\n",
            "[nltk_data]     /root/nltk_data...\n",
            "[nltk_data]   Package maxent_ne_chunker is already up-to-date!\n",
            "[nltk_data] Downloading package words to /root/nltk_data...\n",
            "[nltk_data]   Unzipping corpora/words.zip.\n"
          ]
        },
        {
          "output_type": "execute_result",
          "data": {
            "text/plain": [
              "True"
            ]
          },
          "metadata": {},
          "execution_count": 14
        }
      ]
    },
    {
      "cell_type": "code",
      "source": [
        "paragraph=\"The Statue of Liberty is a colossal neoclassical sculpture on Liberty Island in New York Harbor in New York,\\\n",
        "was designed by French sculptor Frédéric Auguste Bartholdi on October 28, 1886.\""
      ],
      "metadata": {
        "id": "bRXpjvwbBxJC"
      },
      "execution_count": 2,
      "outputs": []
    },
    {
      "cell_type": "code",
      "source": [
        "words=nltk.word_tokenize(paragraph)"
      ],
      "metadata": {
        "id": "EyRwbtPGB4cl"
      },
      "execution_count": 5,
      "outputs": []
    },
    {
      "cell_type": "code",
      "source": [
        "words"
      ],
      "metadata": {
        "colab": {
          "base_uri": "https://localhost:8080/"
        },
        "id": "nB6IbM1KCAUf",
        "outputId": "7c81faff-2ba5-4ec3-b571-b9fbd337c549"
      },
      "execution_count": 6,
      "outputs": [
        {
          "output_type": "execute_result",
          "data": {
            "text/plain": [
              "['The',\n",
              " 'Statue',\n",
              " 'of',\n",
              " 'Liberty',\n",
              " 'is',\n",
              " 'a',\n",
              " 'colossal',\n",
              " 'neoclassical',\n",
              " 'sculpture',\n",
              " 'on',\n",
              " 'Liberty',\n",
              " 'Island',\n",
              " 'in',\n",
              " 'New',\n",
              " 'York',\n",
              " 'Harbor',\n",
              " 'in',\n",
              " 'New',\n",
              " 'York',\n",
              " ',',\n",
              " 'was',\n",
              " 'designed',\n",
              " 'by',\n",
              " 'French',\n",
              " 'sculptor',\n",
              " 'Frédéric',\n",
              " 'Auguste',\n",
              " 'Bartholdi',\n",
              " 'on',\n",
              " 'October',\n",
              " '28',\n",
              " ',',\n",
              " '1886',\n",
              " '.']"
            ]
          },
          "metadata": {},
          "execution_count": 6
        }
      ]
    },
    {
      "cell_type": "code",
      "source": [
        "#To do named entity recognition, we need to do POS tagging\n",
        "tagged_word=nltk.pos_tag(words)"
      ],
      "metadata": {
        "id": "5RkDmg3HCCbH"
      },
      "execution_count": 9,
      "outputs": []
    },
    {
      "cell_type": "code",
      "source": [
        "tagged_word"
      ],
      "metadata": {
        "colab": {
          "base_uri": "https://localhost:8080/"
        },
        "id": "3hkq8fe_CWXr",
        "outputId": "606fb9db-cd56-4949-d423-58fbefd208d6"
      },
      "execution_count": 10,
      "outputs": [
        {
          "output_type": "execute_result",
          "data": {
            "text/plain": [
              "[('The', 'DT'),\n",
              " ('Statue', 'NNP'),\n",
              " ('of', 'IN'),\n",
              " ('Liberty', 'NNP'),\n",
              " ('is', 'VBZ'),\n",
              " ('a', 'DT'),\n",
              " ('colossal', 'JJ'),\n",
              " ('neoclassical', 'JJ'),\n",
              " ('sculpture', 'NN'),\n",
              " ('on', 'IN'),\n",
              " ('Liberty', 'NNP'),\n",
              " ('Island', 'NNP'),\n",
              " ('in', 'IN'),\n",
              " ('New', 'NNP'),\n",
              " ('York', 'NNP'),\n",
              " ('Harbor', 'NNP'),\n",
              " ('in', 'IN'),\n",
              " ('New', 'NNP'),\n",
              " ('York', 'NNP'),\n",
              " (',', ','),\n",
              " ('was', 'VBD'),\n",
              " ('designed', 'VBN'),\n",
              " ('by', 'IN'),\n",
              " ('French', 'JJ'),\n",
              " ('sculptor', 'NN'),\n",
              " ('Frédéric', 'NNP'),\n",
              " ('Auguste', 'NNP'),\n",
              " ('Bartholdi', 'NNP'),\n",
              " ('on', 'IN'),\n",
              " ('October', 'NNP'),\n",
              " ('28', 'CD'),\n",
              " (',', ','),\n",
              " ('1886', 'CD'),\n",
              " ('.', '.')]"
            ]
          },
          "metadata": {},
          "execution_count": 10
        }
      ]
    },
    {
      "cell_type": "code",
      "source": [
        "namedEnt=nltk.ne_chunk(tagged_word)"
      ],
      "metadata": {
        "id": "MBovib5QCZ7j"
      },
      "execution_count": 15,
      "outputs": []
    },
    {
      "cell_type": "code",
      "source": [
        "namedEnt.pprint"
      ],
      "metadata": {
        "colab": {
          "base_uri": "https://localhost:8080/"
        },
        "id": "tZO8DJseCmX5",
        "outputId": "38ee5bca-7f85-4072-d6eb-a92f2f86b686"
      },
      "execution_count": 20,
      "outputs": [
        {
          "output_type": "execute_result",
          "data": {
            "text/plain": [
              "<bound method Tree.pprint of Tree('S', [('The', 'DT'), ('Statue', 'NNP'), ('of', 'IN'), Tree('GPE', [('Liberty', 'NNP')]), ('is', 'VBZ'), ('a', 'DT'), ('colossal', 'JJ'), ('neoclassical', 'JJ'), ('sculpture', 'NN'), ('on', 'IN'), Tree('ORGANIZATION', [('Liberty', 'NNP'), ('Island', 'NNP')]), ('in', 'IN'), Tree('GPE', [('New', 'NNP'), ('York', 'NNP'), ('Harbor', 'NNP')]), ('in', 'IN'), Tree('GPE', [('New', 'NNP'), ('York', 'NNP')]), (',', ','), ('was', 'VBD'), ('designed', 'VBN'), ('by', 'IN'), Tree('GPE', [('French', 'JJ')]), ('sculptor', 'NN'), Tree('PERSON', [('Frédéric', 'NNP'), ('Auguste', 'NNP'), ('Bartholdi', 'NNP')]), ('on', 'IN'), ('October', 'NNP'), ('28', 'CD'), (',', ','), ('1886', 'CD'), ('.', '.')])>"
            ]
          },
          "metadata": {},
          "execution_count": 20
        }
      ]
    }
  ]
}