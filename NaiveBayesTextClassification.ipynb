{
  "nbformat": 4,
  "nbformat_minor": 0,
  "metadata": {
    "colab": {
      "provenance": []
    },
    "kernelspec": {
      "name": "python3",
      "display_name": "Python 3"
    },
    "language_info": {
      "name": "python"
    }
  },
  "cells": [
    {
      "cell_type": "code",
      "execution_count": 2,
      "metadata": {
        "colab": {
          "base_uri": "https://localhost:8080/"
        },
        "id": "t2pz8ahF8uzZ",
        "outputId": "71934e14-ba0e-4552-ab05-6486f3659d50"
      },
      "outputs": [
        {
          "output_type": "execute_result",
          "data": {
            "text/plain": [
              "dict_keys(['data', 'filenames', 'target_names', 'target', 'DESCR'])"
            ]
          },
          "metadata": {},
          "execution_count": 2
        }
      ],
      "source": [
        "#import dataset module\n",
        "#There have a dataset has training data named fetch_20newsgroups\n",
        "from sklearn.datasets import fetch_20newsgroups\n",
        "\n",
        "#Fetch 20 new gropus training dataset\n",
        "#subset: Select \"text\" or \"train\" dataset.\n",
        "#We extract \"train\" dataset\n",
        "news_groups_train=fetch_20newsgroups(subset=\"train\")\n",
        "\n",
        "#Show keys.\n",
        "#data:Article data\n",
        "#target_names:Category names.\n",
        "#target:Labeled(categorized) data. Labeled in replaced numbers.\n",
        "news_groups_train.keys()"
      ]
    },
    {
      "cell_type": "code",
      "source": [
        "#Get article content\n",
        "news_groups_train.data[0]"
      ],
      "metadata": {
        "colab": {
          "base_uri": "https://localhost:8080/",
          "height": 88
        },
        "id": "ZP0XK8yR9oex",
        "outputId": "cb3d0c87-a9fe-49b2-bb8c-f24aca0ae9bb"
      },
      "execution_count": 3,
      "outputs": [
        {
          "output_type": "execute_result",
          "data": {
            "text/plain": [
              "\"From: lerxst@wam.umd.edu (where's my thing)\\nSubject: WHAT car is this!?\\nNntp-Posting-Host: rac3.wam.umd.edu\\nOrganization: University of Maryland, College Park\\nLines: 15\\n\\n I was wondering if anyone out there could enlighten me on this car I saw\\nthe other day. It was a 2-door sports car, looked to be from the late 60s/\\nearly 70s. It was called a Bricklin. The doors were really small. In addition,\\nthe front bumper was separate from the rest of the body. This is \\nall I know. If anyone can tellme a model name, engine specs, years\\nof production, where this car is made, history, or whatever info you\\nhave on this funky looking car, please e-mail.\\n\\nThanks,\\n- IL\\n   ---- brought to you by your neighborhood Lerxst ----\\n\\n\\n\\n\\n\""
            ],
            "application/vnd.google.colaboratory.intrinsic+json": {
              "type": "string"
            }
          },
          "metadata": {},
          "execution_count": 3
        }
      ]
    },
    {
      "cell_type": "code",
      "source": [
        "#Get numerically labeled number of category\n",
        "news_groups_train.target"
      ],
      "metadata": {
        "colab": {
          "base_uri": "https://localhost:8080/"
        },
        "id": "jEhLPv0g92dS",
        "outputId": "44ebe2af-31ea-47a9-d3db-c3c35c641f94"
      },
      "execution_count": 4,
      "outputs": [
        {
          "output_type": "execute_result",
          "data": {
            "text/plain": [
              "array([7, 4, 4, ..., 3, 1, 8])"
            ]
          },
          "metadata": {},
          "execution_count": 4
        }
      ]
    },
    {
      "cell_type": "code",
      "source": [
        "#Get target(category)names.\n",
        "news_groups_train.target_names"
      ],
      "metadata": {
        "colab": {
          "base_uri": "https://localhost:8080/"
        },
        "id": "oGyiIJlg99Io",
        "outputId": "f5ba7256-65c9-4817-e88e-b5ba14471820"
      },
      "execution_count": 5,
      "outputs": [
        {
          "output_type": "execute_result",
          "data": {
            "text/plain": [
              "['alt.atheism',\n",
              " 'comp.graphics',\n",
              " 'comp.os.ms-windows.misc',\n",
              " 'comp.sys.ibm.pc.hardware',\n",
              " 'comp.sys.mac.hardware',\n",
              " 'comp.windows.x',\n",
              " 'misc.forsale',\n",
              " 'rec.autos',\n",
              " 'rec.motorcycles',\n",
              " 'rec.sport.baseball',\n",
              " 'rec.sport.hockey',\n",
              " 'sci.crypt',\n",
              " 'sci.electronics',\n",
              " 'sci.med',\n",
              " 'sci.space',\n",
              " 'soc.religion.christian',\n",
              " 'talk.politics.guns',\n",
              " 'talk.politics.mideast',\n",
              " 'talk.politics.misc',\n",
              " 'talk.religion.misc']"
            ]
          },
          "metadata": {},
          "execution_count": 5
        }
      ]
    },
    {
      "cell_type": "code",
      "source": [
        "#Transforming from text to vector:TF-IDF vectorization"
      ],
      "metadata": {
        "id": "JWqzzTjP-Dcy"
      },
      "execution_count": 6,
      "outputs": []
    },
    {
      "cell_type": "code",
      "source": [
        "#Import CountVectorizer class,\n",
        "#CountVectorizer converts text data to matrix of token counts.\n",
        "from sklearn.feature_extraction.text import CountVectorizer\n",
        "count_vector=CountVectorizer()\n",
        "\n",
        "#fit transform()creates dictionary and return term-document matrix.\n",
        "X_train_counts=count_vector.fit_transform(news_groups_train.data)\n",
        "\n",
        "#Import TfidfTransformer class.\n",
        "#TfidfTransformer transforms count matrix to tf-idf representation.\n",
        "from sklearn.feature_extraction.text import TfidfTransformer\n",
        "tfidf_transformer=TfidfTransformer()\n",
        "\n",
        "#fit_transform transforms count matrix to tf-idf representation(vector).\n",
        "X_train_tfidf=tfidf_transformer.fit_transform(X_train_counts)"
      ],
      "metadata": {
        "id": "t3Lq_M54-ZT_"
      },
      "execution_count": 9,
      "outputs": []
    },
    {
      "cell_type": "code",
      "source": [
        "#Create naive bayes classifier model"
      ],
      "metadata": {
        "id": "25Jhu0J8_bqD"
      },
      "execution_count": 10,
      "outputs": []
    },
    {
      "cell_type": "code",
      "source": [
        "#Create model(naive bayes) and training.\n",
        "from sklearn.naive_bayes import MultinomialNB\n",
        "clf=MultinomialNB().fit(X_train_tfidf,news_groups_train.target)"
      ],
      "metadata": {
        "id": "7YJPZVMW_0Wg"
      },
      "execution_count": 11,
      "outputs": []
    },
    {
      "cell_type": "code",
      "source": [
        "#Run Classification&check results"
      ],
      "metadata": {
        "id": "2ERSvt2BA5oj"
      },
      "execution_count": 12,
      "outputs": []
    },
    {
      "cell_type": "code",
      "source": [
        "#Create test documents.\n",
        "docs_new={\n",
        "    'God is love',\n",
        "    'OpenGL on the GPU is fast',\n",
        "    \"United states goes to Iraq\",\n",
        "}\n",
        "\n",
        "#Transforming\n",
        "X_new_counts=count_vector.transform(docs_new)\n",
        "X_new_tfidf=tfidf_transformer.transform(X_new_counts)\n",
        "\n",
        "#Execute prediction(classification)\n",
        "predicted=clf.predict(X_new_tfidf)\n",
        "\n",
        "#Show predicted data.\n",
        "for doc,category in zip(docs_new,predicted):\n",
        "  print(\"{0}=>{1}\".format(doc,news_groups_train.target_names[category]))"
      ],
      "metadata": {
        "colab": {
          "base_uri": "https://localhost:8080/"
        },
        "id": "OMSuGe0QBCr9",
        "outputId": "599fcc5c-c612-4ca8-b16e-4850697b2246"
      },
      "execution_count": 13,
      "outputs": [
        {
          "output_type": "stream",
          "name": "stdout",
          "text": [
            "God is love=>soc.religion.christian\n",
            "OpenGL on the GPU is fast=>rec.autos\n",
            "United states goes to Iraq=>talk.politics.mideast\n"
          ]
        }
      ]
    }
  ]
}