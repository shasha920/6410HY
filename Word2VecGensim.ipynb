{
 "cells": [
  {
   "cell_type": "code",
   "execution_count": 57,
   "metadata": {
    "id": "8DHpOZdE3l4t"
   },
   "outputs": [],
   "source": [
    "#Example Vehicle Information"
   ]
  },
  {
   "cell_type": "code",
   "execution_count": 58,
   "metadata": {
    "id": "HQPDyLuK5VZd"
   },
   "outputs": [],
   "source": [
    "#Install Dependencies and Libraries"
   ]
  },
  {
   "cell_type": "code",
   "execution_count": 59,
   "metadata": {
    "id": "PpwrJn7t5Z5P"
   },
   "outputs": [
    {
     "name": "stdout",
     "output_type": "stream",
     "text": [
      "Requirement already satisfied: gensim in ./opt/anaconda3/lib/python3.9/site-packages (3.6.0)\n",
      "Requirement already satisfied: numpy>=1.11.3 in ./opt/anaconda3/lib/python3.9/site-packages (from gensim) (1.21.5)\n",
      "Requirement already satisfied: scipy>=0.18.1 in ./opt/anaconda3/lib/python3.9/site-packages (from gensim) (1.7.3)\n",
      "Requirement already satisfied: six>=1.5.0 in ./opt/anaconda3/lib/python3.9/site-packages (from gensim) (1.16.0)\n",
      "Requirement already satisfied: smart-open>=1.2.1 in ./opt/anaconda3/lib/python3.9/site-packages (from gensim) (1.10.0)\n",
      "Requirement already satisfied: requests in ./opt/anaconda3/lib/python3.9/site-packages (from smart-open>=1.2.1->gensim) (2.27.1)\n",
      "Requirement already satisfied: boto3 in ./opt/anaconda3/lib/python3.9/site-packages (from smart-open>=1.2.1->gensim) (1.21.32)\n",
      "Requirement already satisfied: google-cloud-storage in ./opt/anaconda3/lib/python3.9/site-packages (from smart-open>=1.2.1->gensim) (1.31.0)\n",
      "Requirement already satisfied: botocore<1.25.0,>=1.24.32 in ./opt/anaconda3/lib/python3.9/site-packages (from boto3->smart-open>=1.2.1->gensim) (1.24.32)\n",
      "Requirement already satisfied: jmespath<2.0.0,>=0.7.1 in ./opt/anaconda3/lib/python3.9/site-packages (from boto3->smart-open>=1.2.1->gensim) (0.10.0)\n",
      "Requirement already satisfied: s3transfer<0.6.0,>=0.5.0 in ./opt/anaconda3/lib/python3.9/site-packages (from boto3->smart-open>=1.2.1->gensim) (0.5.0)\n",
      "Requirement already satisfied: google-auth<2.0dev,>=1.11.0 in ./opt/anaconda3/lib/python3.9/site-packages (from google-cloud-storage->smart-open>=1.2.1->gensim) (1.33.0)\n",
      "Requirement already satisfied: google-cloud-core<2.0dev,>=1.4.1 in ./opt/anaconda3/lib/python3.9/site-packages (from google-cloud-storage->smart-open>=1.2.1->gensim) (1.7.1)\n",
      "Requirement already satisfied: google-resumable-media<2.0dev,>=1.0.0 in ./opt/anaconda3/lib/python3.9/site-packages (from google-cloud-storage->smart-open>=1.2.1->gensim) (1.3.1)\n",
      "Requirement already satisfied: urllib3<1.27,>=1.21.1 in ./opt/anaconda3/lib/python3.9/site-packages (from requests->smart-open>=1.2.1->gensim) (1.26.15)\n",
      "Requirement already satisfied: certifi>=2017.4.17 in ./opt/anaconda3/lib/python3.9/site-packages (from requests->smart-open>=1.2.1->gensim) (2021.10.8)\n",
      "Requirement already satisfied: charset-normalizer~=2.0.0 in ./opt/anaconda3/lib/python3.9/site-packages (from requests->smart-open>=1.2.1->gensim) (2.0.4)\n",
      "Requirement already satisfied: idna<4,>=2.5 in ./opt/anaconda3/lib/python3.9/site-packages (from requests->smart-open>=1.2.1->gensim) (3.3)\n",
      "Requirement already satisfied: python-dateutil<3.0.0,>=2.1 in ./opt/anaconda3/lib/python3.9/site-packages (from botocore<1.25.0,>=1.24.32->boto3->smart-open>=1.2.1->gensim) (2.8.2)\n",
      "Requirement already satisfied: cachetools<5.0,>=2.0.0 in ./opt/anaconda3/lib/python3.9/site-packages (from google-auth<2.0dev,>=1.11.0->google-cloud-storage->smart-open>=1.2.1->gensim) (4.2.2)\n",
      "Requirement already satisfied: pyasn1-modules>=0.2.1 in ./opt/anaconda3/lib/python3.9/site-packages (from google-auth<2.0dev,>=1.11.0->google-cloud-storage->smart-open>=1.2.1->gensim) (0.2.8)\n",
      "Requirement already satisfied: setuptools>=40.3.0 in ./opt/anaconda3/lib/python3.9/site-packages (from google-auth<2.0dev,>=1.11.0->google-cloud-storage->smart-open>=1.2.1->gensim) (61.2.0)\n",
      "Requirement already satisfied: rsa<5,>=3.1.4 in ./opt/anaconda3/lib/python3.9/site-packages (from google-auth<2.0dev,>=1.11.0->google-cloud-storage->smart-open>=1.2.1->gensim) (4.7.2)\n",
      "Requirement already satisfied: google-api-core<2.0.0dev,>=1.21.0 in ./opt/anaconda3/lib/python3.9/site-packages (from google-cloud-core<2.0dev,>=1.4.1->google-cloud-storage->smart-open>=1.2.1->gensim) (1.25.1)\n",
      "Requirement already satisfied: google-crc32c<2.0dev,>=1.0 in ./opt/anaconda3/lib/python3.9/site-packages (from google-resumable-media<2.0dev,>=1.0.0->google-cloud-storage->smart-open>=1.2.1->gensim) (1.1.2)\n",
      "Requirement already satisfied: googleapis-common-protos<2.0dev,>=1.6.0 in ./opt/anaconda3/lib/python3.9/site-packages (from google-api-core<2.0.0dev,>=1.21.0->google-cloud-core<2.0dev,>=1.4.1->google-cloud-storage->smart-open>=1.2.1->gensim) (1.53.0)\n",
      "Requirement already satisfied: protobuf>=3.12.0 in ./opt/anaconda3/lib/python3.9/site-packages (from google-api-core<2.0.0dev,>=1.21.0->google-cloud-core<2.0dev,>=1.4.1->google-cloud-storage->smart-open>=1.2.1->gensim) (3.19.1)\n",
      "Requirement already satisfied: pytz in ./opt/anaconda3/lib/python3.9/site-packages (from google-api-core<2.0.0dev,>=1.21.0->google-cloud-core<2.0dev,>=1.4.1->google-cloud-storage->smart-open>=1.2.1->gensim) (2021.3)\n",
      "Requirement already satisfied: cffi>=1.0.0 in ./opt/anaconda3/lib/python3.9/site-packages (from google-crc32c<2.0dev,>=1.0->google-resumable-media<2.0dev,>=1.0.0->google-cloud-storage->smart-open>=1.2.1->gensim) (1.15.0)\n",
      "Requirement already satisfied: pyasn1<0.5.0,>=0.4.6 in ./opt/anaconda3/lib/python3.9/site-packages (from pyasn1-modules>=0.2.1->google-auth<2.0dev,>=1.11.0->google-cloud-storage->smart-open>=1.2.1->gensim) (0.4.8)\n",
      "Requirement already satisfied: pycparser in ./opt/anaconda3/lib/python3.9/site-packages (from cffi>=1.0.0->google-crc32c<2.0dev,>=1.0->google-resumable-media<2.0dev,>=1.0.0->google-cloud-storage->smart-open>=1.2.1->gensim) (2.21)\n"
     ]
    }
   ],
   "source": [
    "#!pip install --user trafilatura #Trafilatura is a Python package and command-line tool designed to gather text\n",
    "#It includes discovery, extraction and text processing components.\n",
    "\n",
    "#!pip install --user tqdm #progress bar\n",
    "\n",
    "#!pip install --user plotly\n",
    "#graphing libraray makes interactive, publication-quality graphs\n",
    "\n",
    "#!pip install --user datapane #app development platform which gives you everything you need to build internal data\n",
    "\n",
    "#!pip install --user scikit-learn\n",
    "\n",
    "!pip install --user gensim\n",
    "#Python library for topic modelling, document indexing and similarity retrieval with large corpora"
   ]
  },
  {
   "cell_type": "code",
   "execution_count": 60,
   "metadata": {
    "colab": {
     "base_uri": "https://localhost:8080/"
    },
    "id": "xlEHLy6z6Yw4",
    "outputId": "8aa07b10-8c12-4a01-82be-312466bccdc5"
   },
   "outputs": [
    {
     "name": "stderr",
     "output_type": "stream",
     "text": [
      "[nltk_data] Downloading package stopwords to\n",
      "[nltk_data]     /Users/xiaoqin/nltk_data...\n",
      "[nltk_data]   Package stopwords is already up-to-date!\n",
      "[nltk_data] Downloading package punkt to /Users/xiaoqin/nltk_data...\n",
      "[nltk_data]   Package punkt is already up-to-date!\n"
     ]
    },
    {
     "data": {
      "text/plain": [
       "True"
      ]
     },
     "execution_count": 60,
     "metadata": {},
     "output_type": "execute_result"
    }
   ],
   "source": [
    "#Text manipulation libraries\n",
    "import re\n",
    "import string\n",
    "import nltk\n",
    "import gensim\n",
    "from nltk.corpus import stopwords\n",
    "nltk.download('stopwords') #we run this command to download the stopwords in the project\n",
    "nltk.download('punkt') #essential for tokenization"
   ]
  },
  {
   "cell_type": "code",
   "execution_count": 61,
   "metadata": {
    "id": "n9s0d89Z61AZ"
   },
   "outputs": [],
   "source": [
    "def preprocess_text(text: str, remove_stopwords:bool) -> str:\n",
    "    \"\"\"Function that cleans the input text by going to:\n",
    "    - remove links\n",
    "    - remove special characters\n",
    "    - remove numbers\n",
    "    - remove stopwords\n",
    "    - convert to lowercase\n",
    "    - remove excessive white spaces\n",
    "    Arguments:\n",
    "        text (str): text to clean\n",
    "        remove_stopwords (bool): whether to remove stopwords\n",
    "    Returns:\n",
    "        str: cleaned text\n",
    "    \"\"\"\n",
    "    #remove links\n",
    "    text=re.sub(r\"http\\S+\",\"\",text)\n",
    "    #remove numbers and special characters\n",
    "    text=re.sub(\"[^A-Za-z]+\",\" \",text)\n",
    "    #remove stopwords\n",
    "    if remove_stopwords:\n",
    "      #1.create tokens\n",
    "      tokens=nltk.word_tokenize(text)\n",
    "      #2.check if it's a stopword\n",
    "      tokens=[w.lower().strip() for w in tokens if not w.lower() in stopwords.words(\"italian\")]\n",
    "      #return a list of cleaned tokens\n",
    "      return tokens"
   ]
  },
  {
   "cell_type": "code",
   "execution_count": 62,
   "metadata": {
    "id": "Hso8wcbK9Eue"
   },
   "outputs": [],
   "source": [
    "import pandas as pd"
   ]
  },
  {
   "cell_type": "code",
   "execution_count": 63,
   "metadata": {
    "colab": {
     "base_uri": "https://localhost:8080/",
     "height": 354
    },
    "id": "69A8lnso9Hda",
    "outputId": "cc913a22-2952-44e8-faad-1970e151010d"
   },
   "outputs": [
    {
     "data": {
      "text/html": [
       "<div>\n",
       "<style scoped>\n",
       "    .dataframe tbody tr th:only-of-type {\n",
       "        vertical-align: middle;\n",
       "    }\n",
       "\n",
       "    .dataframe tbody tr th {\n",
       "        vertical-align: top;\n",
       "    }\n",
       "\n",
       "    .dataframe thead th {\n",
       "        text-align: right;\n",
       "    }\n",
       "</style>\n",
       "<table border=\"1\" class=\"dataframe\">\n",
       "  <thead>\n",
       "    <tr style=\"text-align: right;\">\n",
       "      <th></th>\n",
       "      <th>Make</th>\n",
       "      <th>Model</th>\n",
       "      <th>Year</th>\n",
       "      <th>Engine Fuel Type</th>\n",
       "      <th>Engine HP</th>\n",
       "      <th>Engine Cylinders</th>\n",
       "      <th>Transmission Type</th>\n",
       "      <th>Driven_Wheels</th>\n",
       "      <th>Number of Doors</th>\n",
       "      <th>Market Category</th>\n",
       "      <th>Vehicle Size</th>\n",
       "      <th>Vehicle Style</th>\n",
       "      <th>highway MPG</th>\n",
       "      <th>city mpg</th>\n",
       "      <th>Popularity</th>\n",
       "      <th>MSRP</th>\n",
       "    </tr>\n",
       "  </thead>\n",
       "  <tbody>\n",
       "    <tr>\n",
       "      <th>0</th>\n",
       "      <td>BMW</td>\n",
       "      <td>1 Series M</td>\n",
       "      <td>2011</td>\n",
       "      <td>premium unleaded (required)</td>\n",
       "      <td>335.0</td>\n",
       "      <td>6.0</td>\n",
       "      <td>MANUAL</td>\n",
       "      <td>rear wheel drive</td>\n",
       "      <td>2.0</td>\n",
       "      <td>Factory Tuner,Luxury,High-Performance</td>\n",
       "      <td>Compact</td>\n",
       "      <td>Coupe</td>\n",
       "      <td>26</td>\n",
       "      <td>19</td>\n",
       "      <td>3916</td>\n",
       "      <td>46135</td>\n",
       "    </tr>\n",
       "    <tr>\n",
       "      <th>1</th>\n",
       "      <td>BMW</td>\n",
       "      <td>1 Series</td>\n",
       "      <td>2011</td>\n",
       "      <td>premium unleaded (required)</td>\n",
       "      <td>300.0</td>\n",
       "      <td>6.0</td>\n",
       "      <td>MANUAL</td>\n",
       "      <td>rear wheel drive</td>\n",
       "      <td>2.0</td>\n",
       "      <td>Luxury,Performance</td>\n",
       "      <td>Compact</td>\n",
       "      <td>Convertible</td>\n",
       "      <td>28</td>\n",
       "      <td>19</td>\n",
       "      <td>3916</td>\n",
       "      <td>40650</td>\n",
       "    </tr>\n",
       "    <tr>\n",
       "      <th>2</th>\n",
       "      <td>BMW</td>\n",
       "      <td>1 Series</td>\n",
       "      <td>2011</td>\n",
       "      <td>premium unleaded (required)</td>\n",
       "      <td>300.0</td>\n",
       "      <td>6.0</td>\n",
       "      <td>MANUAL</td>\n",
       "      <td>rear wheel drive</td>\n",
       "      <td>2.0</td>\n",
       "      <td>Luxury,High-Performance</td>\n",
       "      <td>Compact</td>\n",
       "      <td>Coupe</td>\n",
       "      <td>28</td>\n",
       "      <td>20</td>\n",
       "      <td>3916</td>\n",
       "      <td>36350</td>\n",
       "    </tr>\n",
       "    <tr>\n",
       "      <th>3</th>\n",
       "      <td>BMW</td>\n",
       "      <td>1 Series</td>\n",
       "      <td>2011</td>\n",
       "      <td>premium unleaded (required)</td>\n",
       "      <td>230.0</td>\n",
       "      <td>6.0</td>\n",
       "      <td>MANUAL</td>\n",
       "      <td>rear wheel drive</td>\n",
       "      <td>2.0</td>\n",
       "      <td>Luxury,Performance</td>\n",
       "      <td>Compact</td>\n",
       "      <td>Coupe</td>\n",
       "      <td>28</td>\n",
       "      <td>18</td>\n",
       "      <td>3916</td>\n",
       "      <td>29450</td>\n",
       "    </tr>\n",
       "    <tr>\n",
       "      <th>4</th>\n",
       "      <td>BMW</td>\n",
       "      <td>1 Series</td>\n",
       "      <td>2011</td>\n",
       "      <td>premium unleaded (required)</td>\n",
       "      <td>230.0</td>\n",
       "      <td>6.0</td>\n",
       "      <td>MANUAL</td>\n",
       "      <td>rear wheel drive</td>\n",
       "      <td>2.0</td>\n",
       "      <td>Luxury</td>\n",
       "      <td>Compact</td>\n",
       "      <td>Convertible</td>\n",
       "      <td>28</td>\n",
       "      <td>18</td>\n",
       "      <td>3916</td>\n",
       "      <td>34500</td>\n",
       "    </tr>\n",
       "  </tbody>\n",
       "</table>\n",
       "</div>"
      ],
      "text/plain": [
       "  Make       Model  Year             Engine Fuel Type  Engine HP  \\\n",
       "0  BMW  1 Series M  2011  premium unleaded (required)      335.0   \n",
       "1  BMW    1 Series  2011  premium unleaded (required)      300.0   \n",
       "2  BMW    1 Series  2011  premium unleaded (required)      300.0   \n",
       "3  BMW    1 Series  2011  premium unleaded (required)      230.0   \n",
       "4  BMW    1 Series  2011  premium unleaded (required)      230.0   \n",
       "\n",
       "   Engine Cylinders Transmission Type     Driven_Wheels  Number of Doors  \\\n",
       "0               6.0            MANUAL  rear wheel drive              2.0   \n",
       "1               6.0            MANUAL  rear wheel drive              2.0   \n",
       "2               6.0            MANUAL  rear wheel drive              2.0   \n",
       "3               6.0            MANUAL  rear wheel drive              2.0   \n",
       "4               6.0            MANUAL  rear wheel drive              2.0   \n",
       "\n",
       "                         Market Category Vehicle Size Vehicle Style  \\\n",
       "0  Factory Tuner,Luxury,High-Performance      Compact         Coupe   \n",
       "1                     Luxury,Performance      Compact   Convertible   \n",
       "2                Luxury,High-Performance      Compact         Coupe   \n",
       "3                     Luxury,Performance      Compact         Coupe   \n",
       "4                                 Luxury      Compact   Convertible   \n",
       "\n",
       "   highway MPG  city mpg  Popularity   MSRP  \n",
       "0           26        19        3916  46135  \n",
       "1           28        19        3916  40650  \n",
       "2           28        20        3916  36350  \n",
       "3           28        18        3916  29450  \n",
       "4           28        18        3916  34500  "
      ]
     },
     "execution_count": 63,
     "metadata": {},
     "output_type": "execute_result"
    }
   ],
   "source": [
    "df=pd.read_csv('vehicle_data.csv')\n",
    "df.head()"
   ]
  },
  {
   "cell_type": "code",
   "execution_count": 64,
   "metadata": {
    "id": "8xmeuRqv9Zpz"
   },
   "outputs": [],
   "source": [
    "#Data Preprocessing"
   ]
  },
  {
   "cell_type": "code",
   "execution_count": 65,
   "metadata": {
    "id": "CU7IVjkj9dgm"
   },
   "outputs": [],
   "source": [
    "#Gensim word2vec requires that a format of \"list of lists\" for training where every document is contained in a list\n",
    "#and every list contains lists of tokens of that document"
   ]
  },
  {
   "cell_type": "code",
   "execution_count": 66,
   "metadata": {
    "id": "S9XwnJlv93Eg"
   },
   "outputs": [],
   "source": [
    "#a. create a new column for Make Model\n",
    "df['Maker_Model']=df['Make']+\" \"+df['Model']"
   ]
  },
  {
   "cell_type": "code",
   "execution_count": 67,
   "metadata": {
    "colab": {
     "base_uri": "https://localhost:8080/"
    },
    "id": "MNF-UiSz-Dct",
    "outputId": "418da73f-bcf4-4002-b4cc-197eb43a6d4a"
   },
   "outputs": [
    {
     "data": {
      "text/plain": [
       "[['premium unleaded (required)',\n",
       "  'MANUAL',\n",
       "  'rear wheel drive',\n",
       "  'Factory Tuner',\n",
       "  'Luxury',\n",
       "  'High-Performance',\n",
       "  'Compact',\n",
       "  'Coupe',\n",
       "  'BMW 1 Series M'],\n",
       " ['premium unleaded (required)',\n",
       "  'MANUAL',\n",
       "  'rear wheel drive',\n",
       "  'Luxury',\n",
       "  'Performance',\n",
       "  'Compact',\n",
       "  'Convertible',\n",
       "  'BMW 1 Series']]"
      ]
     },
     "execution_count": 67,
     "metadata": {},
     "output_type": "execute_result"
    }
   ],
   "source": [
    "#b. Generate a format of ' list of lists' for each Make Model with the following features: Engine Fuel Type,\n",
    "#Transmission Type, Driven_Wheels,Market Category, Vehicle Size, Vehicle Style.\n",
    "#Select features from original dataset to form a new dataframe.\n",
    "df1=df[['Engine Fuel Type','Transmission Type','Driven_Wheels','Market Category','Vehicle Size', 'Vehicle Style', 'Maker_Model']]\n",
    "#For each row, combine all the columns into one column\n",
    "df2=df1.apply(lambda x:','.join(x.astype(str)),axis=1)\n",
    "#Store them in a pandas dataframe\n",
    "df_clean=pd.DataFrame({\"clean\":df2})\n",
    "#Create the list of list format of the custom corpus for gensim modeling\n",
    "sent=[row.split(',') for row in df_clean['clean']]\n",
    "#show the example of list of list format of the custom corpus for gensim modeling\n",
    "sent[0:2]"
   ]
  },
  {
   "cell_type": "code",
   "execution_count": 68,
   "metadata": {
    "id": "s44_TsOX_vkv"
   },
   "outputs": [],
   "source": [
    "#Gensim word2vec Model Training"
   ]
  },
  {
   "cell_type": "code",
   "execution_count": 69,
   "metadata": {
    "id": "mDCv8oiw_zq8"
   },
   "outputs": [],
   "source": [
    "from gensim.models import Word2Vec"
   ]
  },
  {
   "cell_type": "code",
   "execution_count": 70,
   "metadata": {
    "id": "sHC9SgKF_4Fx"
   },
   "outputs": [],
   "source": [
    "model=Word2Vec(sent,min_count=1,size = 50, workers=3, window=3, sg=1)\n",
    "#size:The number of dimensions of the embeddings and the default is 100.\n",
    "#window:The maximum distance between a target word and words around the target word. The default window is 5.\n",
    "#min_count:The minimum count of words to consider when traning the model;\n",
    "#words with occurrence less than this count will be ignored. the default of min_count is 5.\n",
    "#workers:The number of partitions during training and the default workers is 3.\n",
    "#sg:The training algorithm, either CBOW(0) or skip gram(1). The default training algorithm is CBOW."
   ]
  },
  {
   "cell_type": "code",
   "execution_count": 71,
   "metadata": {
    "colab": {
     "base_uri": "https://localhost:8080/"
    },
    "id": "UL-_SrfCBkfR",
    "outputId": "f49a6d46-e8f8-4fb6-c23a-d9adf2332361"
   },
   "outputs": [
    {
     "data": {
      "text/plain": [
       "array([ 0.09216227,  0.19068903, -0.02150614,  0.09567162, -0.0666446 ,\n",
       "        0.17018315, -0.03472868, -0.29696077,  0.05088   ,  0.10508802,\n",
       "        0.16257487,  0.02611272, -0.05485084, -0.08982798, -0.09903333,\n",
       "        0.13983737,  0.06965902,  0.16133045, -0.00907501, -0.18733238,\n",
       "       -0.18858166,  0.12406412,  0.38015574, -0.02359857,  0.17559499,\n",
       "        0.11710597,  0.12795523,  0.14144185,  0.01887907,  0.23545916,\n",
       "       -0.16702896,  0.10742594, -0.0272628 , -0.07660717, -0.02991791,\n",
       "       -0.04109486, -0.08410483, -0.04563307,  0.13849543, -0.04512772,\n",
       "        0.04072719, -0.12713599,  0.00270061,  0.11681359, -0.33426094,\n",
       "       -0.05680935, -0.02060897, -0.01495106,  0.29567072, -0.0851198 ],\n",
       "      dtype=float32)"
      ]
     },
     "execution_count": 71,
     "metadata": {},
     "output_type": "execute_result"
    }
   ],
   "source": [
    "#we can obtain the word embedding directly from the training model as following\n",
    "model.wv['BMW 1 Series']"
   ]
  },
  {
   "cell_type": "code",
   "execution_count": 72,
   "metadata": {
    "colab": {
     "base_uri": "https://localhost:8080/"
    },
    "id": "REIchy6aCN85",
    "outputId": "4c2e8ed1-962f-4052-c366-8191a5e2a611"
   },
   "outputs": [
    {
     "data": {
      "text/plain": [
       "array([ 0.0229073 ,  0.13333777, -0.07669047, -0.09007536, -0.17804268,\n",
       "        0.08373772, -0.20580278, -0.29854497,  0.05160572,  0.07090168,\n",
       "        0.05320791, -0.02274852, -0.14925429, -0.08120891, -0.057316  ,\n",
       "        0.11297707,  0.07359096,  0.16323012,  0.06860267, -0.14224744,\n",
       "       -0.20807597,  0.05458144,  0.32116053, -0.07240757,  0.18299225,\n",
       "        0.13171963,  0.08442681,  0.10034982,  0.11134163,  0.24588837,\n",
       "       -0.14786996,  0.16141383,  0.086664  , -0.10797783, -0.01614798,\n",
       "       -0.0042346 ,  0.00478714,  0.11073566,  0.0505663 , -0.10082871,\n",
       "        0.01883443, -0.25195897,  0.01977758,  0.01190953, -0.12528488,\n",
       "        0.00498638,  0.01199733, -0.09440795,  0.21619925, -0.08693031],\n",
       "      dtype=float32)"
      ]
     },
     "execution_count": 72,
     "metadata": {},
     "output_type": "execute_result"
    }
   ],
   "source": [
    "model.wv['Toyota Camry']"
   ]
  },
  {
   "cell_type": "code",
   "execution_count": 73,
   "metadata": {
    "id": "OoJMdizuCUza"
   },
   "outputs": [],
   "source": [
    "#Compute Similarities"
   ]
  },
  {
   "cell_type": "code",
   "execution_count": 74,
   "metadata": {
    "colab": {
     "base_uri": "https://localhost:8080/"
    },
    "id": "cuKvEVjEChXj",
    "outputId": "1a599ba0-0124-4032-9a23-7a5890aa96a6"
   },
   "outputs": [
    {
     "data": {
      "text/plain": [
       "0.83560675"
      ]
     },
     "execution_count": 74,
     "metadata": {},
     "output_type": "execute_result"
    }
   ],
   "source": [
    "model.wv.similarity('BMW 1 Series','Toyota Camry')"
   ]
  },
  {
   "cell_type": "code",
   "execution_count": 75,
   "metadata": {
    "colab": {
     "base_uri": "https://localhost:8080/"
    },
    "id": "hOPgdiPRCo2v",
    "outputId": "fa95608e-44ce-4601-d2b2-260abe16eee7"
   },
   "outputs": [
    {
     "data": {
      "text/plain": [
       "0.95279706"
      ]
     },
     "execution_count": 75,
     "metadata": {},
     "output_type": "execute_result"
    }
   ],
   "source": [
    "model.wv.similarity('BMW 1 Series','BMW 1 Series M')"
   ]
  },
  {
   "cell_type": "code",
   "execution_count": 76,
   "metadata": {
    "colab": {
     "base_uri": "https://localhost:8080/"
    },
    "id": "NbDU2DovCs4z",
    "outputId": "6349f859-99c9-4329-add5-2728e380dfb8"
   },
   "outputs": [
    {
     "data": {
      "text/plain": [
       "[('Lamborghini Murcielago', 0.9956990480422974),\n",
       " ('Ferrari 575M', 0.9956826567649841),\n",
       " ('BMW 2 Series', 0.9953921437263489),\n",
       " ('Infiniti G Coupe', 0.9952536225318909),\n",
       " ('Cadillac ATS Coupe', 0.9949115514755249),\n",
       " ('Ferrari 458 Italia', 0.9946121573448181),\n",
       " ('Aston Martin V12 Vantage', 0.9943667054176331),\n",
       " ('Lamborghini Aventador', 0.9942981600761414),\n",
       " ('Lotus Elise', 0.994263231754303),\n",
       " ('Maserati GranTurismo Convertible', 0.9940467476844788)]"
      ]
     },
     "execution_count": 76,
     "metadata": {},
     "output_type": "execute_result"
    }
   ],
   "source": [
    "model.wv.most_similar('BMW 1 Series')"
   ]
  },
  {
   "cell_type": "code",
   "execution_count": 77,
   "metadata": {
    "id": "hCyMX_lbC7Ae"
   },
   "outputs": [],
   "source": [
    "import numpy as np\n",
    "from numpy import dot\n",
    "from numpy.linalg import norm"
   ]
  },
  {
   "cell_type": "code",
   "execution_count": 78,
   "metadata": {
    "id": "RjvxfdhqDEX7"
   },
   "outputs": [],
   "source": [
    "def cosine_distance(model,word, target_list, num):\n",
    "    cosine_dict={}\n",
    "    word_list=[]\n",
    "    a=model.wv[word]\n",
    "    for item in target_list:\n",
    "      if item !=word:\n",
    "         b=model.wv[item]\n",
    "         cos_sim=dot(a,b)/(norm(a)*norm(b))\n",
    "         cosine_dict[item]=cos_sim\n",
    "    dist_sort=sorted(cosine_dict.items(),key=lambda dist:dist[1],reverse=True) #in Desending order\n",
    "    for item in dist_sort:\n",
    "        word_list.append((item[0],item[1]))\n",
    "    return word_list[0:num]\n"
   ]
  },
  {
   "cell_type": "code",
   "execution_count": 79,
   "metadata": {
    "colab": {
     "base_uri": "https://localhost:8080/"
    },
    "id": "xxdj1j8gEPBl",
    "outputId": "e0b60211-d974-4d40-cd23-1c2a24e419b1"
   },
   "outputs": [
    {
     "data": {
      "text/plain": [
       "[('Audi RS 5', 0.9956105),\n",
       " ('Maserati Coupe', 0.9951812),\n",
       " ('Audi S7', 0.9941357),\n",
       " ('BMW ALPINA B7', 0.99374914),\n",
       " ('Mercedes-Benz SL-Class', 0.99326646)]"
      ]
     },
     "execution_count": 79,
     "metadata": {},
     "output_type": "execute_result"
    }
   ],
   "source": [
    "Maker_Model=list(df.Maker_Model.unique())\n",
    "#Show the most similar Mercedes-Benz SLK-Class by cosine distance\n",
    "cosine_distance(model,'Mercedes-Benz SLK-Class', Maker_Model,5)"
   ]
  },
  {
   "cell_type": "code",
   "execution_count": 80,
   "metadata": {
    "colab": {
     "base_uri": "https://localhost:8080/"
    },
    "id": "5yNANUXfEzJQ",
    "outputId": "f8d2e64e-f4b4-4ccd-8522-477482a58a99"
   },
   "outputs": [
    {
     "data": {
      "text/plain": [
       "[('Lamborghini Murcielago', 0.9956991),\n",
       " ('Ferrari 575M', 0.99568254),\n",
       " ('BMW 2 Series', 0.9953921),\n",
       " ('Infiniti G Coupe', 0.9952537),\n",
       " ('Cadillac ATS Coupe', 0.9949115)]"
      ]
     },
     "execution_count": 80,
     "metadata": {},
     "output_type": "execute_result"
    }
   ],
   "source": [
    "Maker_Model=list(df.Maker_Model.unique())\n",
    "#Show the most similar BMW 1 Series by cosine distance\n",
    "cosine_distance(model,'BMW 1 Series', Maker_Model,5)\n",
    "#The result same as above"
   ]
  },
  {
   "cell_type": "code",
   "execution_count": 81,
   "metadata": {
    "id": "xZl_pAC1FWfd"
   },
   "outputs": [],
   "source": [
    "#2.Example Reading a Wikipedia Page"
   ]
  },
  {
   "cell_type": "code",
   "execution_count": 82,
   "metadata": {
    "id": "WHlZHk3xFb-0"
   },
   "outputs": [],
   "source": [
    "import urllib\n",
    "import bs4 as bs"
   ]
  },
  {
   "cell_type": "code",
   "execution_count": 83,
   "metadata": {
    "id": "thYuMG1QFfMv"
   },
   "outputs": [],
   "source": [
    "source=urllib.request.urlopen('https://en.wikipedia.org/wiki/Fourth_Industrial_Revolution').read()#we have the source"
   ]
  },
  {
   "cell_type": "code",
   "execution_count": 84,
   "metadata": {
    "id": "GPhxQLPoFrrc"
   },
   "outputs": [],
   "source": [
    "soup=bs.BeautifulSoup(source,'lxml')#we have to parse the source and lxml parser"
   ]
  },
  {
   "cell_type": "code",
   "execution_count": 85,
   "metadata": {
    "id": "qSKEA_L_F1ca"
   },
   "outputs": [],
   "source": [
    "#Preprocess"
   ]
  },
  {
   "cell_type": "code",
   "execution_count": 86,
   "metadata": {
    "id": "mSFYkfoxF4DZ"
   },
   "outputs": [],
   "source": [
    "text=\"\"\n",
    "for paragraph in soup.find_all('p'):\n",
    "    text+=paragraph.text\n",
    "#preprocess\n",
    "text=re.sub(r'\\[[0-9]*\\]',' ',text)\n",
    "text=re.sub(r'\\s+',' ',text)\n",
    "text=text.lower()\n",
    "#text=re.sub(r'\\W',' ',text)\n",
    "text=re.sub(r'[@#$&%\\*\\(\\)\\>\\<\\?\\'\\\":;\\]\\[-]',' ',text)\n",
    "text=re.sub(r'\\d',' ',text)\n",
    "text=re.sub(r'\\s+',' ',text)"
   ]
  },
  {
   "cell_type": "code",
   "execution_count": 87,
   "metadata": {
    "colab": {
     "base_uri": "https://localhost:8080/",
     "height": 125
    },
    "id": "--gdLhUWGwzy",
    "outputId": "6b645e5c-6660-46da-d3fb-ceb0c762fdf7"
   },
   "outputs": [
    {
     "data": {
      "text/plain": [
       "' south asia middle east europe north america the fourth industrial revolution, ir, or industry . , conceptualises rapid change to technology, industries, and societal patterns and processes in the st century due to increasing interconnectivity and smart automation. the term was popularised in by klaus schwab, the world economic forum founder and executive chairman, and has since been used in numerous economic, political, and scientific articles in reference to the current era of emerging high technology. schwab asserts that the changes seen are more than just improvements to efficiency, but express a significant shift in industrial capitalism. a part of this phase of industrial change is the joining of technologies like artificial intelligence, gene editing, to advanced robotics that blur the lines between the physical, digital, and biological worlds. throughout this, fundamental shifts are taking place in how the global production and supply network operates through ongoing automation of traditional manufacturing and industrial practices, using modern smart technology, large scale machine to machine communication m m , and the internet of things iot . this integration results in increasing automation, improving communication and self monitoring, and the use of smart machines that can analyse and diagnose issues without the need for human intervention. it also represents a social, political, and economic shift from the digital age of the late s and early s to an era of embedded connectivity distinguished by the omni use and commonness of technological use throughout society e.g. a metaverse that changes the ways humans experience and know the world around them. it posits that we have created and are entering an augmented social reality compared to just the natural senses and industrial ability of humans alone. the fourth industrial revolution is expected to be followed by a fifth industrial revolution. the phrase fourth industrial revolution was first introduced by a team of scientists developing a high tech strategy for the german government. klaus schwab, executive chairman of the world economic forum wef , introduced the phrase to a wider audience in a article published by foreign affairs. mastering the fourth industrial revolution was the theme of the world economic forum annual meeting, in davos klosters, switzerland. on october , the forum announced the opening of its centre for the fourth industrial revolution in san francisco. this was also subject and title of schwab s book. schwab includes in this fourth era technologies that combine hardware, software, and biology cyber physical systems , and emphasises advances in communication and connectivity. schwab expects this era to be marked by breakthroughs in emerging technologies in fields such as robotics, artificial intelligence, nanotechnology, quantum computing, biotechnology, the internet of things, the industrial internet of things, decentralised consensus, fifth generation wireless technologies, d printing, and fully autonomous vehicles. in the great reset proposal by the wef, the fourth industrial revolution is included as a strategic intelligence in the solution to rebuild the economy sustainably following the covid pandemic. the first industrial revolution was marked by a transition from hand production methods to machines through the use of steam power and water power. the implementation of new technologies took a long time, so the period which this refers to was between and , or in europe and the united states. its effects had consequences on textile manufacturing, which was first to adopt such changes, as well as iron industry, agriculture, and mining although it also had societal effects with an ever stronger middle class. the second industrial revolution, also known as the technological revolution, is the period between and that resulted from installations of extensive railroad and telegraph networks, which allowed for faster transfer of people and ideas, as well as electricity. increasing electrification allowed for factories to develop the modern production line. it was a period of great economic growth, with an increase in productivity, which also caused a surge in unemployment since many factory workers were replaced by machines. the third industrial revolution, also known as the digital revolution, occurred in the late th century, after the end of the two world wars, resulting from a slowdown of industrialisation and technological advancement compared to previous periods. the production of the z computer, which used binary floating point numbers and boolean logic, a decade later, was the beginning of more advanced digital developments. the next significant development in communication technologies was the supercomputer, with extensive use of computer and communication technologies in the production process machinery began to abrogate the need for human power. in essence, the fourth industrial revolution is the trend towards automation and data exchange in manufacturing technologies and processes which include cyber physical systems cps , iot, industrial internet of things, cloud computing, cognitive computing, and artificial intelligence. the machines cannot replace the deep expertise but they tend to be more efficient than humans in performing repetitive functions, and the combination of machine learning and computational power allows machines to carry out highly complicated tasks. the fourth industrial revolution has been defined as technological developments in cyber physical systems such as high capacity connectivity new human machine interaction modes such as touch interfaces and virtual reality systems and improvements in transferring digital instructions to the physical world including robotics and d printing additive manufacturing the internet of things iot big data and cloud computing artificial intelligence based systems improvements to and uptake of off grid / stand alone renewable energy systems solar, wind, wave, hydroelectric and the electric batteries lithium ion renewable energy storage systems ess and ev . the fourth industrial revolution marks the beginning of the imagination age. industry . increases operational efficiency. four themes are presented that summarise an industry . proponents of the fourth industrial revolution suggest it is a distinct revolution rather than simply a prolongation of the third industrial revolution. this is due to the following characteristics critics of the concept dismiss industry . as a marketing strategy. they suggest that although revolutionary changes are identifiable in distinct sectors, there is no systemic change so far. in addition, the pace of recognition of industry . and policy transition varies across countries the definition of industry . is not harmonised. one of the most known figures is jeremy rifkin who agree s that digitalization is the hallmark and defining technology in what has become known as the third industrial revolution . however, he argues that that the evolution of digitalization has barely begun to run its course and that its new configuration in the form of the internet of things represents the next stage of its development . the application of the fourth industrial revolution operates through mainly these technologies can be summarised into four major components, defining the term industry . or smart factory industry . networks a wide range of new technologies to create value. using cyber physical systems that monitor physical processes, a virtual copy of the physical world can be designed. characteristics of cyber physical systems include the ability to make decentralised decisions independently, reaching a high degree of autonomy. the value created in industry . , can be relied upon electronic identification, in which the smart manufacturing require set technologies to be incorporated in the manufacturing process to thus be classified as in the development path of industry . and no longer digitisation. industry . integrates processes vertically, across the entire organisation, including processes in product development, manufacturing, structuring, and service horizontally, industry . includes internal operations from suppliers to customers as well as all key value chain partners. integrating new methods of data collection and analysis–such as through the expansion of existing products or creation of new digitised products–helps companies to generate data on product use to refine products customer satisfaction is a perpetual, multi stage process that requires modification in real time to adapt to the changing needs of consumers smart factory is the vision of a production environment in which production facilities and logistics systems are organised without human intervention. the smart factory is no longer a vision. while different model factories represent the feasible, many enterprises already clarify with examples practically, how the smart factory functions. the technical foundations on which the smart factory – the intelligent factory – is based are cyber physical systems that communicate with each other using the internet of things and services. an important part of this process is the exchange of data between the product and the production line. this enables a much more efficient connection of the supply chain and better organisation within any production environment. the fourth industrial revolution fosters what has been called a smart factory . within modular structured smart factories, cyber physical systems monitor physical processes, create a virtual copy of the physical world and make decentralised decisions. over the internet of things, cyber physical systems communicate and cooperate with each other and with humans in synchronic time both internally and across organizational services offered and used by participants of the value chain. industry . can also provide predictive maintenance, due to the use of technology and the iot sensors. predictive maintenance – which can identify maintenance issues in real time – allows machine owners to perform cost effective maintenance and determine it ahead of time before the machinery fails or gets damaged. for example, a company in los angeles could understand if a piece of equipment in singapore is running at an abnormal speed or temperature. they could then decide whether or not it needs to be repaired. the fourth industrial revolution is said to have extensive dependency on d printing technology. some advantages of d printing for industry are that d printing can print many geometric structures, as well as simplify the product design process. it is also relatively environmentally friendly. in low volume production, it can also decrease lead times and total production costs. moreover, it can increase flexibility, reduce warehousing costs and help the company towards the adoption of a mass customisation business strategy. in addition, d printing can be very useful for printing spare parts and installing it locally, therefore reducing supplier dependence and reducing the supply lead time. the determining factor is the pace of change. the correlation of the speed of technological development and, as a result, socio economic and infrastructural transformations with human life allows one to state a qualitative leap in the speed of development, which marks a transition to a new time era. sensors and instrumentation drive the central forces of innovation, not only for industry . but also for other smart megatrends, such as smart production, smart mobility, smart homes, smart cities, and smart factories. smart sensors are devices, which generate the data and allow further functionality from self monitoring and self configuration to condition monitoring of complex processes. with the capability of wireless communication, they reduce installation effort to a great extent and help realise a dense array of sensors. the importance of sensors, measurement science, and smart evaluation for industry . has been recognised and acknowledged by various experts and has already led to the statement industry . nothing goes without sensor systems. however, there are a few issues, such as time synchronisation error, data loss, and dealing with large amounts of harvested data, which all limit the implementation of full fledged systems. moreover, additional limits on these functionalities represents the battery power. one example of the integration of smart sensors in the electronic devices, is the case of smart watches, where sensors receive the data from the movement of the user, process the data and as a result, provide the user with the information about how many steps they have walked in a day and also converts the data into calories burned. smart sensors in these two fields are still in the testing stage. these innovative connected sensors collect, interpret and communicate the information available in the plots leaf area, vegetation index, chlorophyll, hygrometry, temperature, water potential, radiation . based on this scientific data, the objective is to enable real time monitoring via a smartphone with a range of advice that optimises plot management in terms of results, time and costs. on the farm, these sensors can be used to detect crop stages and recommend inputs and treatments at the right time. as well as controlling the level of irrigation. the food industry requires more and more security and transparency and full documentation is required. this new technology is used as a tracking system as well as the collection of human data and product data. knowledge economy is an economic system in which production and services are largely based on knowledge intensive activities that contribute to an accelerated pace of technical and scientific advance, as well as rapid obsolescence. industry . aids transitions into knowledge economy by increasing reliance on intellectual capabilities than on physical inputs or natural resources. challenges in implementation of industry . many countries have set up institutional mechanisms to foster the adoption of industry . technologies. for example, australia has a digital transformation agency est. and the prime minister s industry . taskforce est. , which promotes collaboration with industry groups in germany and the usa. the term industrie . , shortened to i . or simply i , originated in from a project in the high tech strategy of the german government and specifically relates to that project policy, rather than a wider notion of a fourth industrial revolution of ir, which promotes the computerisation of manufacturing. the term industrie . was publicly introduced in the same year at the hannover fair. renowned german professor wolfgang wahlster is sometimes called the inventor of the industry . term. in october , the working group on industry . presented a set of industry . implementation recommendations to the german federal government. the workgroup members and partners are recognised as the founding fathers and driving force behind industry . . on april at the hannover fair, the final report of the working group industry . was presented. this working group was headed by siegfried dais, of robert bosch gmbh, and henning kagermann, of the german academy of science and engineering. as industry . principles have been applied by companies, they have sometimes been rebranded. for example, the aerospace parts manufacturer meggitt plc has branded its own industry . research project m . the discussion of how the shift to industry . , especially digitisation, will affect the labour market is being discussed in germany under the topic of work . . the federal government in germany through its ministries of the bmbf and bmwi, is a leader in the development of the i . policy. through the publishing of set objectives and goals for enterprises to achieve, the german federal government attempts to set the direction of the digital transformation. however, there is a gap between german enterprise s collaboration and knowledge of these set policies. the biggest challenge which smes in germany are currently facing regarding digital transformation of their manufacturing processes is ensuring that there is a concrete it and application landscape to support further digital transformation efforts. the characteristics of the german government s industry . strategy involve the strong customisation of products under the conditions of highly flexible mass production. the required automation technology is improved by the introduction of methods of self optimization, self configuration, self diagnosis, cognition and intelligent support of workers in their increasingly complex work. the largest project in industry . as of july is the german federal ministry of education and research bmbf leading edge cluster intelligent technical systems ostwestfalen lippe its owl . another major project is the bmbf project res com, as well as the cluster of excellence integrative production technology for high wage countries . in , the european commission started the international horizon research project crema providing cloud based rapid elastic manufacturing based on the xaas and cloud model as a major initiative to foster the industry . topic. in estonia, the digital transformation dubbed as the th industrial revolution by klaus schwab and the world economic forum in started with the restoration of independence in . although a latecomer to the information revolution due to years of soviet occupation, estonia leapfrogged to the digital era, while skipping the analogue connections almost completely. the early decisions made by prime minister mart laar on the course of the country s economic development led to the establishment of what is today known as e estonia, one of the worlds most digitally advanced nations. according to the goals set in the estonia s digital agenda , next leaps in the country s digital transformation will be switching to event based and proactive services, both in private and business environment, as well as developing a green, ai powered and human centric digital government. another example is making indonesia . , with a focus on improving industrial performance. south africa appointed a presidential commission on the fourth industrial revolution in , consisting of about stakeholders with a background in academia, industry and government. south africa has also established an inter ministerial committee on industry . . the republic of korea has had a presidential committee on the fourth industrial revolution since . the republic of korea s i korea strategy is focusing on new growth engines that include ai, drones and autonomous cars, in line with the government s innovation driven economic policy. see science and technology in spain uganda adopted its own national ir strategy in october with emphasis on e governance, urban management smart cities , health care, education, agriculture and the digital economy to support local businesses, the government was contemplating introducing a local start ups bill in which would require all accounting officers to exhaust the local market prior to procuring digital solutions from abroad. in a policy paper published in , the uk s department for business, energy industrial strategy, titled regulation for the fourth industrial revolution , outlined the need to evolve current regulatory models to remain competitive in evolving technological and social settings. the department of homeland security in published a paper called the industrial internet of things iiot opportunities, risks, mitigation . the base pieces of critical infrastructure are increasingly digitised for greater connectivity and optimisation. hence, its implementation, growth and maintenance must be carefully planned and safeguarded. the paper discusses not only applications of iiot but also the associated risks. it has suggested some key areas where risk mitigation is possible. to increase coordination between the public, private, law enforcement, academia and other stakeholders the dhs formed the national cybersecurity and communications integration center nccic . the aerospace industry has sometimes been characterised as too low volume for extensive automation however, industry . principles have been investigated by several aerospace companies, and technologies have been developed to improve productivity where the upfront cost of automation cannot be justified. one example of this is the aerospace parts manufacturer meggitt plc s m project. the increasing use of the industrial internet of things is referred to as industry . at bosch, and generally in germany. applications include machines that can predict failures and trigger maintenance processes autonomously or self organised coordination that react to unexpected changes in production. in , bosch launched the connectory, a chicago, illinois based innovation incubator that specializes in iot, including industry . . industry . inspired innovation . , a move toward digitisation for academia and research and development. in , the £ m materials innovation factory mif at the university of liverpool opened as a center for computer aided materials science, where robotic formulation, data capture and modelling are being integrated into development practices. with the consistent development on automation of everyday tasks, some saw the benefit in the exact opposite of automation where self made products are valued more than those that involved automation. this valuation is named the ikea effect, a term coined by michael i. norton of harvard business school, daniel mochon of yale, and dan ariely of duke. another problem that is expected to accelerate with the growth of ir is the prevalence of mental disorders. the world has already experienced such problems in hi tech industries. '"
      ]
     },
     "execution_count": 87,
     "metadata": {},
     "output_type": "execute_result"
    }
   ],
   "source": [
    "text"
   ]
  },
  {
   "cell_type": "code",
   "execution_count": 88,
   "metadata": {
    "id": "crpQIL1LG6DK"
   },
   "outputs": [],
   "source": [
    "sentences=nltk.sent_tokenize(text)\n",
    "sentences=[nltk.word_tokenize(sentence) for sentence in sentences]\n",
    "for i in range(len(sentences)):\n",
    "  sentences[i]=[word for word in sentences[i] if word not in stopwords.words('english')]"
   ]
  },
  {
   "cell_type": "code",
   "execution_count": 89,
   "metadata": {
    "colab": {
     "base_uri": "https://localhost:8080/"
    },
    "id": "3ewNtisZHiGu",
    "outputId": "381139bd-57f5-4297-dd1b-df301c626b66"
   },
   "outputs": [
    {
     "data": {
      "text/plain": [
       "163"
      ]
     },
     "execution_count": 89,
     "metadata": {},
     "output_type": "execute_result"
    }
   ],
   "source": [
    "len(sentences)"
   ]
  },
  {
   "cell_type": "code",
   "execution_count": 90,
   "metadata": {
    "id": "4jrjhX_bHkFf"
   },
   "outputs": [],
   "source": [
    "#Training the model"
   ]
  },
  {
   "cell_type": "code",
   "execution_count": 91,
   "metadata": {
    "id": "eCJ3r6O4H6Bt"
   },
   "outputs": [],
   "source": [
    "model=Word2Vec(sentences, min_count=1)"
   ]
  },
  {
   "cell_type": "code",
   "execution_count": 92,
   "metadata": {
    "colab": {
     "base_uri": "https://localhost:8080/"
    },
    "id": "SmTZWK_BH_-L",
    "outputId": "5d7801a6-f91b-4301-921d-3b35509985e6"
   },
   "outputs": [
    {
     "data": {
      "text/plain": [
       "array([-0.00212534, -0.00243353, -0.00168151,  0.002954  ,  0.00454779,\n",
       "        0.00247998, -0.00121604, -0.00439633, -0.00103521,  0.00187999,\n",
       "       -0.00433913,  0.001448  ,  0.00362037,  0.00239897,  0.00343704,\n",
       "        0.00263873, -0.00444228,  0.00450617, -0.00431435,  0.00315072,\n",
       "        0.0028417 ,  0.003653  , -0.00173196, -0.00286052, -0.00182602,\n",
       "        0.00014457, -0.00195935, -0.00167845,  0.00057841, -0.00308413,\n",
       "        0.00024734, -0.0022454 , -0.00344766, -0.00036408,  0.00529569,\n",
       "       -0.00279005, -0.00266025, -0.0003851 , -0.00215562, -0.00029259,\n",
       "       -0.00321924, -0.00139095,  0.00385901, -0.00341499, -0.00148793,\n",
       "       -0.00326575, -0.00461053, -0.00350891,  0.00037935, -0.00106673,\n",
       "       -0.00365787, -0.00079188,  0.0011684 , -0.0049711 ,  0.00245471,\n",
       "        0.00126932, -0.00032543,  0.0036443 ,  0.00225003,  0.00283821,\n",
       "        0.00102421,  0.00547315, -0.00331758,  0.00290242,  0.00083721,\n",
       "       -0.00418548,  0.00373045, -0.00496957, -0.00287534, -0.00431807,\n",
       "        0.00178503, -0.00170019, -0.002778  ,  0.0021892 ,  0.00458739,\n",
       "        0.00375832, -0.0008771 ,  0.00370747,  0.00194137, -0.00399392,\n",
       "        0.00278688,  0.00334585,  0.00242141,  0.00494286, -0.00320647,\n",
       "        0.00239432,  0.00174035,  0.00403828,  0.0017079 , -0.0019828 ,\n",
       "       -0.00291148,  0.0023032 , -0.00464741, -0.00085699,  0.00169308,\n",
       "        0.00491177,  0.00130244, -0.00394557, -0.00212986,  0.0036202 ],\n",
       "      dtype=float32)"
      ]
     },
     "execution_count": 92,
     "metadata": {},
     "output_type": "execute_result"
    }
   ],
   "source": [
    "#get vectors out of words\n",
    "vectors=model.wv['industry']\n",
    "vectors"
   ]
  },
  {
   "cell_type": "code",
   "execution_count": 93,
   "metadata": {
    "colab": {
     "base_uri": "https://localhost:8080/"
    },
    "id": "aHBSgFMHIH1B",
    "outputId": "616f2184-049d-4c3c-fbe3-055ed9bc7c86"
   },
   "outputs": [
    {
     "data": {
      "text/plain": [
       "100"
      ]
     },
     "execution_count": 93,
     "metadata": {},
     "output_type": "execute_result"
    }
   ],
   "source": [
    "len(vectors)"
   ]
  },
  {
   "cell_type": "code",
   "execution_count": 94,
   "metadata": {
    "colab": {
     "base_uri": "https://localhost:8080/"
    },
    "id": "mYjRoNDOIJzU",
    "outputId": "54073eb8-2ea2-449b-af9c-1697c7109cf0"
   },
   "outputs": [
    {
     "data": {
      "text/plain": [
       "[('implementation', 0.3268631100654602),\n",
       " ('major', 0.32656213641166687),\n",
       " (',', 0.3114866614341736),\n",
       " ('mochon', 0.30380934476852417),\n",
       " ('industrial', 0.2921789884567261),\n",
       " ('megatrends', 0.28594398498535156),\n",
       " ('products–helps', 0.2703874409198761),\n",
       " ('end', 0.2645798921585083),\n",
       " ('several', 0.24971511960029602),\n",
       " ('printing', 0.24756386876106262)]"
      ]
     },
     "execution_count": 94,
     "metadata": {},
     "output_type": "execute_result"
    }
   ],
   "source": [
    "model.wv.most_similar('revolution')"
   ]
  },
  {
   "cell_type": "code",
   "execution_count": 95,
   "metadata": {
    "id": "j00BvpBkIPhf"
   },
   "outputs": [],
   "source": [
    "#Improve the model, explore some of the pre-trained models"
   ]
  },
  {
   "cell_type": "code",
   "execution_count": 96,
   "metadata": {
    "id": "gNgg0Yx5Iawx"
   },
   "outputs": [],
   "source": [
    "from gensim.models import KeyedVectors"
   ]
  },
  {
   "cell_type": "code",
   "execution_count": 97,
   "metadata": {
    "id": "ZzSlGBfqIe3Q"
   },
   "outputs": [],
   "source": [
    "filename='GoogleNews-vectors-negative300.bin'"
   ]
  },
  {
   "cell_type": "code",
   "execution_count": 98,
   "metadata": {
    "colab": {
     "base_uri": "https://localhost:8080/",
     "height": 336
    },
    "id": "UBxbzO-OIiOl",
    "outputId": "647f6ba8-68be-488c-aaca-159d9a815765"
   },
   "outputs": [
    {
     "name": "stderr",
     "output_type": "stream",
     "text": [
      "/Users/xiaoqin/opt/anaconda3/lib/python3.9/site-packages/smart_open/smart_open_lib.py:408: UserWarning: This function is deprecated, use smart_open.open instead. See the migration notes for details: https://github.com/RaRe-Technologies/smart_open/blob/master/README.rst#migrating-to-the-new-open-function\n",
      "  warnings.warn(\n"
     ]
    }
   ],
   "source": [
    "#Get the model- it is going to take a while with good RAM\n",
    "model=KeyedVectors.load_word2vec_format(filename,binary=True) #bc it is binary file"
   ]
  },
  {
   "cell_type": "code",
   "execution_count": 99,
   "metadata": {},
   "outputs": [
    {
     "data": {
      "text/plain": [
       "[('revolutions', 0.7037397623062134),\n",
       " ('revolutionary', 0.6257899403572083),\n",
       " ('Revolution', 0.5847131013870239),\n",
       " ('revolutionaries', 0.5730563402175903),\n",
       " ('revolt', 0.5643018484115601),\n",
       " ('technological_revolutions', 0.5470391511917114),\n",
       " ('counterrevolution', 0.5448992252349854),\n",
       " ('uprisings', 0.5448099970817566),\n",
       " ('bloodless_revolution', 0.5400627851486206),\n",
       " ('uprising', 0.5311056971549988)]"
      ]
     },
     "execution_count": 99,
     "metadata": {},
     "output_type": "execute_result"
    }
   ],
   "source": [
    "model.most_similar('revolution')"
   ]
  },
  {
   "cell_type": "code",
   "execution_count": 100,
   "metadata": {},
   "outputs": [
    {
     "data": {
      "text/plain": [
       "[('queen', 0.7118192315101624),\n",
       " ('monarch', 0.6189674735069275),\n",
       " ('princess', 0.5902431607246399),\n",
       " ('crown_prince', 0.5499460697174072),\n",
       " ('prince', 0.5377321243286133),\n",
       " ('kings', 0.5236844420433044),\n",
       " ('Queen_Consort', 0.5235946178436279),\n",
       " ('queens', 0.5181134343147278),\n",
       " ('sultan', 0.5098593235015869),\n",
       " ('monarchy', 0.5087411403656006)]"
      ]
     },
     "execution_count": 100,
     "metadata": {},
     "output_type": "execute_result"
    }
   ],
   "source": [
    "model.most_similar('king')\n",
    "#let's add different vectors and negation vectors, and find out\n",
    "model.most_similar(positive=['king','woman'],negative=['man'])"
   ]
  },
  {
   "cell_type": "code",
   "execution_count": null,
   "metadata": {},
   "outputs": [],
   "source": []
  }
 ],
 "metadata": {
  "colab": {
   "provenance": []
  },
  "kernelspec": {
   "display_name": "Python 3 (ipykernel)",
   "language": "python",
   "name": "python3"
  },
  "language_info": {
   "codemirror_mode": {
    "name": "ipython",
    "version": 3
   },
   "file_extension": ".py",
   "mimetype": "text/x-python",
   "name": "python",
   "nbconvert_exporter": "python",
   "pygments_lexer": "ipython3",
   "version": "3.9.12"
  }
 },
 "nbformat": 4,
 "nbformat_minor": 4
}
