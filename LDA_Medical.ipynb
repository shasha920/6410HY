{
  "nbformat": 4,
  "nbformat_minor": 0,
  "metadata": {
    "colab": {
      "provenance": []
    },
    "kernelspec": {
      "name": "python3",
      "display_name": "Python 3"
    },
    "language_info": {
      "name": "python"
    }
  },
  "cells": [
    {
      "cell_type": "code",
      "execution_count": 2,
      "metadata": {
        "colab": {
          "base_uri": "https://localhost:8080/"
        },
        "id": "ZZbkESGz65B9",
        "outputId": "b9832a45-dc44-4036-ac95-faf372946c15"
      },
      "outputs": [
        {
          "output_type": "stream",
          "name": "stderr",
          "text": [
            "[nltk_data] Downloading package stopwords to /root/nltk_data...\n",
            "[nltk_data]   Unzipping corpora/stopwords.zip.\n",
            "[nltk_data] Downloading package punkt to /root/nltk_data...\n",
            "[nltk_data]   Unzipping tokenizers/punkt.zip.\n",
            "[nltk_data] Downloading package wordnet to /root/nltk_data...\n"
          ]
        },
        {
          "output_type": "execute_result",
          "data": {
            "text/plain": [
              "True"
            ]
          },
          "metadata": {},
          "execution_count": 2
        }
      ],
      "source": [
        "import gensim\n",
        "from gensim import corpora\n",
        "from gensim.models import CoherenceModel\n",
        "from nltk.corpus import stopwords\n",
        "from nltk.stem.wordnet import WordNetLemmatizer\n",
        "from nltk.tokenize import word_tokenize\n",
        "import string\n",
        "import nltk\n",
        "nltk.download('stopwords')\n",
        "nltk.download('punkt')\n",
        "nltk.download('wordnet')"
      ]
    },
    {
      "cell_type": "code",
      "source": [
        "#Assume you have some medical documents\n",
        "documents=[\"The patient was diagnosed with influenza.\", \"The doctor prescribed antibiotics for the infection.\",\n",
        "             \"The MRI scan showed a tumor in the brain.\", \"The patient has a history of heart disease.\"]\n",
        "documents"
      ],
      "metadata": {
        "colab": {
          "base_uri": "https://localhost:8080/"
        },
        "id": "Kn7mkWyV7Tft",
        "outputId": "35228387-73a6-4f31-a127-61311abf8ecf"
      },
      "execution_count": 3,
      "outputs": [
        {
          "output_type": "execute_result",
          "data": {
            "text/plain": [
              "['The patient was diagnosed with influenza.',\n",
              " 'The doctor prescribed antibiotics for the infection.',\n",
              " 'The MRI scan showed a tumor in the brain.',\n",
              " 'The patient has a history of heart disease.']"
            ]
          },
          "metadata": {},
          "execution_count": 3
        }
      ]
    },
    {
      "cell_type": "code",
      "source": [
        "#preprocess the documents\n",
        "stop_words=set(stopwords.words('english'))\n",
        "lemmatizer=WordNetLemmatizer()\n",
        "texts=[[lemmatizer.lemmatize(word) for word in word_tokenize(document.lower())\n",
        "       if word not in stop_words and word not in string.punctuation and word.isalnum()] for document in documents]\n",
        "\n",
        "\n",
        "#create a dictionary from the texts\n",
        "dictionary = corpora.Dictionary(texts)\n",
        "\n",
        "#create a corpus from the dictionary\n",
        "corpus=[dictionary.doc2bow(text) for text in texts]\n",
        "\n",
        "corpus"
      ],
      "metadata": {
        "colab": {
          "base_uri": "https://localhost:8080/"
        },
        "id": "T7le9jLR7hdq",
        "outputId": "a9b55f4d-a39f-40f6-f44d-600a99e08abd"
      },
      "execution_count": 8,
      "outputs": [
        {
          "output_type": "execute_result",
          "data": {
            "text/plain": [
              "[[(0, 1), (1, 1), (2, 1)],\n",
              " [(3, 1), (4, 1), (5, 1), (6, 1)],\n",
              " [(7, 1), (8, 1), (9, 1), (10, 1), (11, 1)],\n",
              " [(2, 1), (12, 1), (13, 1), (14, 1)]]"
            ]
          },
          "metadata": {},
          "execution_count": 8
        }
      ]
    },
    {
      "cell_type": "code",
      "source": [
        "#train the LDA model\n",
        "lda_model=gensim.models.LdaModel(corpus,num_topics=2,id2word=dictionary,passes=15)\n",
        "\n",
        "#print the topics\n",
        "topics=lda_model.print_topics(num_words=4)\n",
        "for topic in topics:\n",
        "  print(topic)"
      ],
      "metadata": {
        "colab": {
          "base_uri": "https://localhost:8080/"
        },
        "id": "kKvtsTFe8h9y",
        "outputId": "e8ffaee0-38b3-46c7-fb04-56a9ee8f97ae"
      },
      "execution_count": 18,
      "outputs": [
        {
          "output_type": "stream",
          "name": "stdout",
          "text": [
            "(0, '0.060*\"patient\" + 0.060*\"chest\" + 0.036*\"disease\" + 0.036*\"show\"')\n",
            "(1, '0.060*\"patient\" + 0.060*\"test\" + 0.036*\"suggest\" + 0.036*\"possible\"')\n"
          ]
        }
      ]
    },
    {
      "cell_type": "code",
      "source": [
        "from gensim.models.callbacks import CoherenceMetric\n",
        ", coherencemodel\n",
        "#calculate the coherence score\n",
        "coherence_model_lda=CoherenceModel(model=lda_model,texts=texts,dictionary=dictionary,coherence='c_v')\n",
        "coherence_lda=coherence_model_lda.get_coherence()\n",
        "print('\\nCoherence Score: ',coherence_lda)"
      ],
      "metadata": {
        "colab": {
          "base_uri": "https://localhost:8080/"
        },
        "id": "RTkCJ3nL9boN",
        "outputId": "e4ab0cd1-c4b0-4d7f-aa22-e8bbd41e837e"
      },
      "execution_count": 19,
      "outputs": [
        {
          "output_type": "stream",
          "name": "stdout",
          "text": [
            "\n",
            "Coherence Score:  0.21994400192752012\n"
          ]
        }
      ]
    },
    {
      "cell_type": "code",
      "source": [
        "#assume you have some patient records\n",
        "records=[\n",
        "    \"Patient has been experiencing severe chest pain for the past week. EKG shows abnormalities that suggest possible heart disease.\",\n",
        "    \"Patient reports frequent headaches and dizziness. Blood tests and MRI scans suggest possible anemia.\",\n",
        "    \"Patient has history of chronic kidney disease. Recent tests show high levels of creatinine.\",\n",
        "    \"Patient complains of persistent cough and difficulty breathing. Chest X-ray suggests pneumonia.\"\n",
        "]\n",
        "\n",
        "#preprocess the records\n",
        "stop_words=set(stopwords.words('english'))\n",
        "lemmatizer=WordNetLemmatizer()\n",
        "texts=[[lemmatizer.lemmatize(word) for word in word_tokenize(record.lower())\n",
        "      if word not in stop_words and word not in string.punctuation and word.isalnum()] for record in records]\n",
        "\n",
        "#create a dictionary from the texts\n",
        "dictionary=corpora.Dictionary(texts)\n",
        "\n",
        "#create a corpus from the dictionary\n",
        "corpus=[dictionary.doc2bow(text) for text in texts]\n",
        "\n",
        "#train the LDA model\n",
        "lda_model=gensim.models.LdaModel(corpus,num_topics=2,id2word=dictionary,passes=15)\n",
        "\n",
        "#print the topics\n",
        "topics=lda_model.print_topics(num_words=4)\n",
        "for topic in topics:\n",
        "  print(topic)\n",
        "\n",
        "#calculate the coherence score\n",
        "coherence_model_lda=CoherenceModel(model=lda_model,texts=texts,dictionary=dictionary,coherence='c_v')\n",
        "coherence_lda=coherence_model_lda.get_coherence()\n",
        "print('\\nCoherence Score: ',coherence_lda)"
      ],
      "metadata": {
        "colab": {
          "base_uri": "https://localhost:8080/"
        },
        "id": "7Pbb9JcS-PJZ",
        "outputId": "156c0129-4aa1-4648-9c74-c83e29328955"
      },
      "execution_count": 20,
      "outputs": [
        {
          "output_type": "stream",
          "name": "stdout",
          "text": [
            "(0, '0.067*\"patient\" + 0.048*\"show\" + 0.048*\"disease\" + 0.048*\"chest\"')\n",
            "(1, '0.050*\"test\" + 0.049*\"suggest\" + 0.049*\"possible\" + 0.049*\"patient\"')\n",
            "\n",
            "Coherence Score:  0.22010148789964123\n"
          ]
        }
      ]
    },
    {
      "cell_type": "code",
      "source": [
        "#Fine-tune the LDA model\n",
        "#Fine-tuning an LDA model involves adjusting various parameters to improve the model's performance.\n",
        "#One of the most important parameters to adjust is the number of topics.\n",
        "#Other parameters include alpha and beta, which control the distribution of topics across documents\n",
        "#and the distribution of words across topics, respectively"
      ],
      "metadata": {
        "id": "znYCwvs9_mZA"
      },
      "execution_count": 21,
      "outputs": []
    },
    {
      "cell_type": "code",
      "source": [
        ", coherencemodel\n",
        "#Define function to calculate coherence score\n",
        "def compute_coherence_values(dictionary, corpus, texts, limit, start=2, step=3):\n",
        "  coherence_values=[]\n",
        "  model_list=[]\n",
        "  for num_topics in range(start, limit, step):\n",
        "    model=gensim.models.LdaModel(corpus,num_topics=num_topics,id2word=dictionary,passes=15, alpha='auto', eta='auto')\n",
        "    model_list.append(model)\n",
        "    coherencemodel=CoherenceModel(model=model,texts=texts,dictionary=dictionary, coherence='c_v')\n",
        "    coherence_values.append(coherencemodel.get_coherence())\n",
        "\n",
        "  return model_list,coherence_values\n",
        "\n",
        "#use function to calculate coherence socres for different numbers of topics\n",
        "model_list,coherence_values=compute_coherence_values(dictionary=dictionary, corpus=corpus,texts=texts, start=2, limit=10, step=1)\n",
        "\n",
        "# Print the coherence scores\n",
        "for m,cv in zip(range(2,10,1),coherence_values):\n",
        "  print(\"Num Topics=\",m,\" has Coherence Value of\",round(cv,4))"
      ],
      "metadata": {
        "colab": {
          "base_uri": "https://localhost:8080/"
        },
        "id": "mxva8vsCAid5",
        "outputId": "3faef09c-1a74-42cf-d823-cece1eb148a7"
      },
      "execution_count": 25,
      "outputs": [
        {
          "output_type": "stream",
          "name": "stdout",
          "text": [
            "Num Topics= 2  has Coherence Value of 0.1989\n",
            "Num Topics= 3  has Coherence Value of 0.2858\n",
            "Num Topics= 4  has Coherence Value of 0.3199\n",
            "Num Topics= 5  has Coherence Value of 0.3799\n",
            "Num Topics= 6  has Coherence Value of 0.315\n",
            "Num Topics= 7  has Coherence Value of 0.3482\n",
            "Num Topics= 8  has Coherence Value of 0.3061\n",
            "Num Topics= 9  has Coherence Value of 0.3151\n"
          ]
        }
      ]
    }
  ]
}