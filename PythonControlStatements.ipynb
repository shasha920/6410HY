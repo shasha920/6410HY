{
  "nbformat": 4,
  "nbformat_minor": 0,
  "metadata": {
    "colab": {
      "provenance": []
    },
    "kernelspec": {
      "name": "python3",
      "display_name": "Python 3"
    },
    "language_info": {
      "name": "python"
    }
  },
  "cells": [
    {
      "cell_type": "code",
      "execution_count": 1,
      "metadata": {
        "id": "AmiICGhIlHG7"
      },
      "outputs": [],
      "source": [
        "x=7\n",
        "if x<6:\n",
        "  print('x smaller than 6')"
      ]
    },
    {
      "cell_type": "code",
      "source": [
        "if x<6:\n",
        "  print('x small than 6')\n",
        "else:\n",
        "  print('x greater than or equal to 6')"
      ],
      "metadata": {
        "colab": {
          "base_uri": "https://localhost:8080/"
        },
        "id": "LIoSPHDKp-pZ",
        "outputId": "402bf357-d17f-45c8-9382-ec1835b9be2d"
      },
      "execution_count": 3,
      "outputs": [
        {
          "output_type": "stream",
          "name": "stdout",
          "text": [
            "x greater than or equal to 6\n"
          ]
        }
      ]
    },
    {
      "cell_type": "code",
      "source": [
        "color='red'\n",
        "if color=='red':\n",
        "  print('color is red')\n",
        "elif color=='blue':\n",
        "  print('color is blue')\n",
        "else:\n",
        "  print('color unknown')"
      ],
      "metadata": {
        "colab": {
          "base_uri": "https://localhost:8080/"
        },
        "id": "tpk76mW8qI_W",
        "outputId": "b922fc1a-ef57-4ca6-ae29-695f3e19d69f"
      },
      "execution_count": 6,
      "outputs": [
        {
          "output_type": "stream",
          "name": "stdout",
          "text": [
            "color is red\n"
          ]
        }
      ]
    },
    {
      "cell_type": "code",
      "source": [
        "if color=='red':\n",
        "  if(x<10):\n",
        "    print('color is red and x is smaller than 10')"
      ],
      "metadata": {
        "colab": {
          "base_uri": "https://localhost:8080/"
        },
        "id": "DXTEJsi7uKBv",
        "outputId": "50ada91f-e24d-402b-c73f-d9d6132c498d"
      },
      "execution_count": 7,
      "outputs": [
        {
          "output_type": "stream",
          "name": "stdout",
          "text": [
            "color is red and x is smaller than 10\n"
          ]
        }
      ]
    },
    {
      "cell_type": "code",
      "source": [
        "if color =='red' and x<10:\n",
        "  print('color is read and x is smaller than 10')"
      ],
      "metadata": {
        "colab": {
          "base_uri": "https://localhost:8080/"
        },
        "id": "lMpVzOS0ukM_",
        "outputId": "2e3f7ba7-4791-4336-979d-bf121bd79653"
      },
      "execution_count": 8,
      "outputs": [
        {
          "output_type": "stream",
          "name": "stdout",
          "text": [
            "color is read and x is smaller than 10\n"
          ]
        }
      ]
    },
    {
      "cell_type": "code",
      "source": [
        "people=['John','Sara','Tim','Bob']\n",
        "for person in people:\n",
        "  print('current person: ',person)"
      ],
      "metadata": {
        "colab": {
          "base_uri": "https://localhost:8080/"
        },
        "id": "8ZKlI-kbusQ5",
        "outputId": "d05148cc-e3fe-443e-f2bb-e6e24175990b"
      },
      "execution_count": 9,
      "outputs": [
        {
          "output_type": "stream",
          "name": "stdout",
          "text": [
            "current person:  John\n",
            "current person:  Sara\n",
            "current person:  Tim\n",
            "current person:  Bob\n"
          ]
        }
      ]
    },
    {
      "cell_type": "code",
      "source": [
        "for i in range(len(people)):\n",
        "  print('current person: ',people[i])"
      ],
      "metadata": {
        "colab": {
          "base_uri": "https://localhost:8080/"
        },
        "id": "p03GntO0u6V7",
        "outputId": "729a5a2d-9537-4cc0-a0b4-52e8ddb49ce4"
      },
      "execution_count": 10,
      "outputs": [
        {
          "output_type": "stream",
          "name": "stdout",
          "text": [
            "current person:  John\n",
            "current person:  Sara\n",
            "current person:  Tim\n",
            "current person:  Bob\n"
          ]
        }
      ]
    },
    {
      "cell_type": "code",
      "source": [
        "for i in range(0,10):\n",
        "  print(i)"
      ],
      "metadata": {
        "colab": {
          "base_uri": "https://localhost:8080/"
        },
        "id": "1L1AdkGXvEeW",
        "outputId": "221c7dcb-8c17-47fb-b681-e5c870cf8114"
      },
      "execution_count": 12,
      "outputs": [
        {
          "output_type": "stream",
          "name": "stdout",
          "text": [
            "0\n",
            "1\n",
            "2\n",
            "3\n",
            "4\n",
            "5\n",
            "6\n",
            "7\n",
            "8\n",
            "9\n"
          ]
        }
      ]
    },
    {
      "cell_type": "code",
      "source": [
        "count=0\n",
        "while count<=10:\n",
        "  print('count: ',count)\n",
        "  if count==5:\n",
        "    break;\n",
        "  count+=1 #Python does not use ++ or --\n",
        "    "
      ],
      "metadata": {
        "colab": {
          "base_uri": "https://localhost:8080/"
        },
        "id": "fFVEIY7kvJWc",
        "outputId": "71123402-d7a2-4abf-d7e5-f3589828a5a2"
      },
      "execution_count": 13,
      "outputs": [
        {
          "output_type": "stream",
          "name": "stdout",
          "text": [
            "count:  0\n",
            "count:  1\n",
            "count:  2\n",
            "count:  3\n",
            "count:  4\n",
            "count:  5\n"
          ]
        }
      ]
    }
  ]
}