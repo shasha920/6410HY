{
  "nbformat": 4,
  "nbformat_minor": 0,
  "metadata": {
    "colab": {
      "provenance": []
    },
    "kernelspec": {
      "name": "python3",
      "display_name": "Python 3"
    },
    "language_info": {
      "name": "python"
    }
  },
  "cells": [
    {
      "cell_type": "code",
      "execution_count": 1,
      "metadata": {
        "id": "XkY2p_pjgr7t"
      },
      "outputs": [],
      "source": [
        "#Tokenization of paragraphs/sentences\n",
        "import nltk"
      ]
    },
    {
      "cell_type": "code",
      "source": [
        "nltk.download('punkt')"
      ],
      "metadata": {
        "colab": {
          "base_uri": "https://localhost:8080/"
        },
        "id": "-AgrPNK8hGCY",
        "outputId": "baa5eb48-79c0-4780-e6e7-017302ee4523"
      },
      "execution_count": 5,
      "outputs": [
        {
          "output_type": "stream",
          "name": "stderr",
          "text": [
            "[nltk_data] Downloading package punkt to /root/nltk_data...\n",
            "[nltk_data]   Unzipping tokenizers/punkt.zip.\n"
          ]
        },
        {
          "output_type": "execute_result",
          "data": {
            "text/plain": [
              "True"
            ]
          },
          "metadata": {},
          "execution_count": 5
        }
      ]
    },
    {
      "cell_type": "code",
      "source": [
        "nltk.download('wordnet')#for Lemmatization"
      ],
      "metadata": {
        "colab": {
          "base_uri": "https://localhost:8080/"
        },
        "id": "wM6swDaTi_wM",
        "outputId": "f415d863-76af-4563-b88f-75b0848b069d"
      },
      "execution_count": 17,
      "outputs": [
        {
          "output_type": "stream",
          "name": "stderr",
          "text": [
            "[nltk_data] Downloading package wordnet to /root/nltk_data...\n"
          ]
        },
        {
          "output_type": "execute_result",
          "data": {
            "text/plain": [
              "True"
            ]
          },
          "metadata": {},
          "execution_count": 17
        }
      ]
    },
    {
      "cell_type": "code",
      "source": [
        "nltk.download('averaged_perceptron_tagger')#for POS"
      ],
      "metadata": {
        "colab": {
          "base_uri": "https://localhost:8080/"
        },
        "id": "cSL-IOWhjTiF",
        "outputId": "57a6700a-a388-49e5-8ac8-dc74043a71c0"
      },
      "execution_count": 21,
      "outputs": [
        {
          "output_type": "stream",
          "name": "stderr",
          "text": [
            "[nltk_data] Downloading package averaged_perceptron_tagger to\n",
            "[nltk_data]     /root/nltk_data...\n",
            "[nltk_data]   Unzipping taggers/averaged_perceptron_tagger.zip.\n"
          ]
        },
        {
          "output_type": "execute_result",
          "data": {
            "text/plain": [
              "True"
            ]
          },
          "metadata": {},
          "execution_count": 21
        }
      ]
    },
    {
      "cell_type": "code",
      "source": [
        "from nltk.stem import PorterStemmer"
      ],
      "metadata": {
        "id": "zupVwBoMg2us"
      },
      "execution_count": 2,
      "outputs": []
    },
    {
      "cell_type": "code",
      "source": [
        "paragraph=\"\"\"Thank you all so very much. Thank you to the Academy.\n",
        "               Thank you to all of you in this room. I have to congratulate\n",
        "               the other incredible nominees this year. The Revenant was\n",
        "               the product of the tireless efforts of an unbelievable cast\n",
        "               and crew. First off, to my brother in this endeavor, Mr. Tom\n",
        "               Hardy. Tom, your talent on screen can only be surpassed by\n",
        "               your friendship off screen … thank you for creating a t\n",
        "               ranscendent cinematic experience. Thank you to everybody at\n",
        "               Fox and New Regency … my entire team. I have to thank\n",
        "               everyone from the very onset of my career … To my parents;\n",
        "               none of this would be possible without you. And to my\n",
        "               friends, I love you dearly; you know who you are. And lastly,\n",
        "               I just want to say this: Making The Revenant was about\n",
        "               man's relationship to the natural world. A world that we\n",
        "               collectively felt in 2015 as the hottest year in recorded\n",
        "               history. Our production needed to move to the southern\n",
        "               tip of this planet just to be able to find snow. Climate\n",
        "               change is real, it is happening right now. It is the most\n",
        "               urgent threat facing our entire species, and we need to work\n",
        "               collectively together and stop procrastinating. We need to\n",
        "               support leaders around the world who do not speak for the\n",
        "               big polluters, but who speak for all of humanity, for the\n",
        "               indigenous people of the world, for the billions and\n",
        "               billions of underprivileged people out there who would be\n",
        "               most affected by this. For our children’s children, and\n",
        "               for those people out there whose voices have been drowned\n",
        "               out by the politics of greed. I thank you all for this\n",
        "               amazing award tonight. Let us not take this planet for\n",
        "               granted. I do not take tonight for granted. Thank you so very much.\"\"\""
      ],
      "metadata": {
        "id": "ZIxGztdQg57X"
      },
      "execution_count": 3,
      "outputs": []
    },
    {
      "cell_type": "code",
      "source": [
        "sentences=nltk.sent_tokenize(paragraph)"
      ],
      "metadata": {
        "id": "sS3gQyU9g-gE"
      },
      "execution_count": 6,
      "outputs": []
    },
    {
      "cell_type": "code",
      "source": [
        "stemmer=PorterStemmer()"
      ],
      "metadata": {
        "id": "qrd0F9z6hDQ-"
      },
      "execution_count": 7,
      "outputs": []
    },
    {
      "cell_type": "code",
      "source": [
        "#Stemming\n",
        "for i in range(len(sentences)):\n",
        "  words=nltk.word_tokenize(sentences[i])\n",
        "  words=[stemmer.stem(word) for word in words]\n",
        "  sentences[i]=' '.join(words)"
      ],
      "metadata": {
        "id": "JOqSEx-3hKd9"
      },
      "execution_count": 8,
      "outputs": []
    },
    {
      "cell_type": "code",
      "source": [
        "words"
      ],
      "metadata": {
        "colab": {
          "base_uri": "https://localhost:8080/"
        },
        "id": "5eDZsJ2Khc8Q",
        "outputId": "b4e28edb-6a5e-4688-fde0-3310eafbc26a"
      },
      "execution_count": 9,
      "outputs": [
        {
          "output_type": "execute_result",
          "data": {
            "text/plain": [
              "['thank', 'you', 'so', 'veri', 'much', '.']"
            ]
          },
          "metadata": {},
          "execution_count": 9
        }
      ]
    },
    {
      "cell_type": "code",
      "source": [
        "sentences[:10]"
      ],
      "metadata": {
        "colab": {
          "base_uri": "https://localhost:8080/"
        },
        "id": "y2maMUN5hq24",
        "outputId": "63787fd9-2226-4f23-ffd3-359f7b6f9872"
      },
      "execution_count": 10,
      "outputs": [
        {
          "output_type": "execute_result",
          "data": {
            "text/plain": [
              "['thank you all so veri much .',\n",
              " 'thank you to the academi .',\n",
              " 'thank you to all of you in thi room .',\n",
              " 'i have to congratul the other incred nomine thi year .',\n",
              " 'the reven wa the product of the tireless effort of an unbeliev cast and crew .',\n",
              " 'first off , to my brother in thi endeavor , mr. tom hardi .',\n",
              " 'tom , your talent on screen can onli be surpass by your friendship off screen … thank you for creat a t ranscend cinemat experi .',\n",
              " 'thank you to everybodi at fox and new regenc … my entir team .',\n",
              " 'i have to thank everyon from the veri onset of my career … to my parent ; none of thi would be possibl without you .',\n",
              " 'and to my friend , i love you dearli ; you know who you are .']"
            ]
          },
          "metadata": {},
          "execution_count": 10
        }
      ]
    },
    {
      "cell_type": "code",
      "source": [
        "#Lemmatization in NLTK"
      ],
      "metadata": {
        "id": "tuhqwRRnhuuz"
      },
      "execution_count": 11,
      "outputs": []
    },
    {
      "cell_type": "code",
      "source": [
        "from nltk import WordNetLemmatizer"
      ],
      "metadata": {
        "id": "m8YGko30hxu-"
      },
      "execution_count": 12,
      "outputs": []
    },
    {
      "cell_type": "code",
      "source": [
        "paragraph1=paragraph\n",
        "type(paragraph1)"
      ],
      "metadata": {
        "colab": {
          "base_uri": "https://localhost:8080/"
        },
        "id": "0a5T67oGh2vB",
        "outputId": "97bb4944-e625-43ea-865a-eeb41b85dc37"
      },
      "execution_count": 13,
      "outputs": [
        {
          "output_type": "execute_result",
          "data": {
            "text/plain": [
              "str"
            ]
          },
          "metadata": {},
          "execution_count": 13
        }
      ]
    },
    {
      "cell_type": "code",
      "source": [
        "sentences=nltk.sent_tokenize(paragraph1)\n",
        "lemmatizer=WordNetLemmatizer()#Create an object of WordNetLemmatizer"
      ],
      "metadata": {
        "id": "HRyHSwADh6dk"
      },
      "execution_count": 15,
      "outputs": []
    },
    {
      "cell_type": "code",
      "source": [
        "#Lemmatization-Takes a bit more time than stemmer\n",
        "for i in range(len(sentences)):\n",
        "  words=nltk.word_tokenize(sentences[i])#because for stemming we need words\n",
        "\n",
        "  #for each word we stem it and add it to the new list\n",
        "  newwords=[lemmatizer.lemmatize(word)for word in words]#create a list, instead of new word and append\n",
        "  sentences[i]=' '.join(newwords)#all words are joined using space"
      ],
      "metadata": {
        "id": "0O24qYojiNEM"
      },
      "execution_count": 18,
      "outputs": []
    },
    {
      "cell_type": "code",
      "source": [
        "sentences[:10]"
      ],
      "metadata": {
        "colab": {
          "base_uri": "https://localhost:8080/"
        },
        "id": "GMcnt5yhjGb0",
        "outputId": "be7fd09c-e62a-4611-ba14-73cfc93ac579"
      },
      "execution_count": 19,
      "outputs": [
        {
          "output_type": "execute_result",
          "data": {
            "text/plain": [
              "['Thank you all so very much .',\n",
              " 'Thank you to the Academy .',\n",
              " 'Thank you to all of you in this room .',\n",
              " 'I have to congratulate the other incredible nominee this year .',\n",
              " 'The Revenant wa the product of the tireless effort of an unbelievable cast and crew .',\n",
              " 'First off , to my brother in this endeavor , Mr. Tom Hardy .',\n",
              " 'Tom , your talent on screen can only be surpassed by your friendship off screen … thank you for creating a t ranscendent cinematic experience .',\n",
              " 'Thank you to everybody at Fox and New Regency … my entire team .',\n",
              " 'I have to thank everyone from the very onset of my career … To my parent ; none of this would be possible without you .',\n",
              " 'And to my friend , I love you dearly ; you know who you are .']"
            ]
          },
          "metadata": {},
          "execution_count": 19
        }
      ]
    },
    {
      "cell_type": "code",
      "source": [
        "tagged_words=nltk.pos_tag(words)#list of words contains all words along with the POS"
      ],
      "metadata": {
        "id": "SYDItchgjI55"
      },
      "execution_count": 22,
      "outputs": []
    },
    {
      "cell_type": "code",
      "source": [
        "tagged_words[:5]"
      ],
      "metadata": {
        "colab": {
          "base_uri": "https://localhost:8080/"
        },
        "id": "j_G98aAxjd30",
        "outputId": "906ca5e8-73ff-4868-ceba-9cf4952c9085"
      },
      "execution_count": 23,
      "outputs": [
        {
          "output_type": "execute_result",
          "data": {
            "text/plain": [
              "[('Thank', 'NNP'),\n",
              " ('you', 'PRP'),\n",
              " ('so', 'RB'),\n",
              " ('very', 'RB'),\n",
              " ('much', 'JJ')]"
            ]
          },
          "metadata": {},
          "execution_count": 23
        }
      ]
    },
    {
      "cell_type": "code",
      "source": [
        "#We cannot use the POS codes to formulate anything\n",
        "#so we create a new paragraph each word will be appended with corresponding POS\n",
        "word_tags=[]\n",
        "for tw in tagged_words:\n",
        "  word_tags.append(tw[0]+\"_\"+tw[1])"
      ],
      "metadata": {
        "id": "JkquClzdjkuW"
      },
      "execution_count": 26,
      "outputs": []
    },
    {
      "cell_type": "code",
      "source": [
        "word_tags[:5]"
      ],
      "metadata": {
        "colab": {
          "base_uri": "https://localhost:8080/"
        },
        "id": "u3ulXZbukGah",
        "outputId": "1d247113-c210-4145-a25a-ab998bddfff5"
      },
      "execution_count": 27,
      "outputs": [
        {
          "output_type": "execute_result",
          "data": {
            "text/plain": [
              "['Thank_NNP', 'you_PRP', 'so_RB', 'very_RB', 'much_JJ']"
            ]
          },
          "metadata": {},
          "execution_count": 27
        }
      ]
    },
    {
      "cell_type": "code",
      "source": [
        "#and then we can create a tagged paragraph\n",
        "tagged_paragraph=' '.join(word_tags)"
      ],
      "metadata": {
        "id": "NnFTYirIkNFC"
      },
      "execution_count": 28,
      "outputs": []
    },
    {
      "cell_type": "code",
      "source": [
        "tagged_paragraph"
      ],
      "metadata": {
        "colab": {
          "base_uri": "https://localhost:8080/",
          "height": 35
        },
        "id": "uqr_7IHPkUet",
        "outputId": "a35de383-28c3-40b9-e371-6ae65c849e1d"
      },
      "execution_count": 29,
      "outputs": [
        {
          "output_type": "execute_result",
          "data": {
            "text/plain": [
              "'Thank_NNP you_PRP so_RB very_RB much_JJ ._.'"
            ],
            "application/vnd.google.colaboratory.intrinsic+json": {
              "type": "string"
            }
          },
          "metadata": {},
          "execution_count": 29
        }
      ]
    }
  ]
}