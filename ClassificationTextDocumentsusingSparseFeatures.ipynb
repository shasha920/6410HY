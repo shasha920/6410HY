{
  "nbformat": 4,
  "nbformat_minor": 0,
  "metadata": {
    "colab": {
      "provenance": []
    },
    "kernelspec": {
      "name": "python3",
      "display_name": "Python 3"
    },
    "language_info": {
      "name": "python"
    }
  },
  "cells": [
    {
      "cell_type": "code",
      "execution_count": 1,
      "metadata": {
        "id": "-rvSVvaTj6KO"
      },
      "outputs": [],
      "source": [
        "%matplotlib inline\n",
        "import numpy as np"
      ]
    },
    {
      "cell_type": "code",
      "source": [
        "#Classification of text documents using sparse features"
      ],
      "metadata": {
        "id": "CWbhq2nfkTqH"
      },
      "execution_count": 2,
      "outputs": []
    },
    {
      "cell_type": "code",
      "source": [
        "#This is an example showing how scikit-learn can be used to classify documents by topics using\n",
        "#bag-of-words approach. This example uses a scipy.sparse matrix to store the features and demonstrates\n",
        "#various classifiers that can efficiently handle sparse matrics."
      ],
      "metadata": {
        "id": "CY2-d-p-kYc4"
      },
      "execution_count": 3,
      "outputs": []
    },
    {
      "cell_type": "code",
      "source": [
        "#The dataset used in this example is the 20 newsgroups dataset. It will be automatically download,\n",
        "#then cached."
      ],
      "metadata": {
        "id": "AyOUd0W0k8UO"
      },
      "execution_count": 4,
      "outputs": []
    },
    {
      "cell_type": "code",
      "source": [
        "#Author: Peter Prettenhofer <peter.prettenhorfer@gmail.com>\n",
        "#Olivier Grisel <olivier.grisel@ensta.org>\n",
        "#Mathieu Blondel <mathieu@mblondel.org>\n",
        "#Lars Buitinck\n",
        "#License: BSD 3 clause"
      ],
      "metadata": {
        "id": "L7Ts40_TlH_D"
      },
      "execution_count": 5,
      "outputs": []
    },
    {
      "cell_type": "code",
      "source": [
        "#Configuration options for the analysis"
      ],
      "metadata": {
        "id": "EyEmSpoqlhxC"
      },
      "execution_count": 6,
      "outputs": []
    },
    {
      "cell_type": "code",
      "source": [
        "#If True, we use 'HashingVectorizer', otherwise we use a 'TfidfVectorizer'\n",
        "USE_HASHING=False\n",
        "\n",
        "#Number of feautres used by 'HashingVectorizer'\n",
        "N_FEATURES=2**16\n",
        "\n",
        "#Optional feature selection: either False, or an interger: the number of\n",
        "#features to select\n",
        "SELECT_CHI2=False"
      ],
      "metadata": {
        "id": "xhCZvSFwlmoO"
      },
      "execution_count": 96,
      "outputs": []
    },
    {
      "cell_type": "code",
      "source": [
        "#Load data from the training set"
      ],
      "metadata": {
        "id": "tjwqrLpjmMm_"
      },
      "execution_count": 8,
      "outputs": []
    },
    {
      "cell_type": "code",
      "source": [
        "#Let's load data from the newsgroups dataset which comprises around 18000 newsgroups posts on 20 topics split\n",
        "#in two subsets:one for training(or development) and the other one for testing(or for performance evaluation)"
      ],
      "metadata": {
        "id": "P0Vh-JYUmQci"
      },
      "execution_count": 9,
      "outputs": []
    },
    {
      "cell_type": "code",
      "source": [
        "from sklearn.datasets import fetch_20newsgroups\n",
        "\n",
        "categories=[\n",
        "    \"alt.atheism\",\n",
        "    \"talk.religion.misc\",\n",
        "    \"comp.graphics\",\n",
        "    \"sci.space\",\n",
        "]\n",
        "\n",
        "data_train=fetch_20newsgroups(\n",
        "    subset=\"train\",categories=categories,shuffle=True, random_state=42\n",
        ")\n",
        "\n",
        "data_test=fetch_20newsgroups(\n",
        "    subset=\"test\",categories=categories, shuffle=True, random_state=42\n",
        ")\n",
        "print(\"data loaded\")\n",
        "\n",
        "#order of lables in 'target_names' can be different from 'categories'\n",
        "target_names = data_train.target_names\n",
        "\n",
        "def size_mb(docs):\n",
        "  return sum(len(s.encode(\"utf-8\"))for s in docs)/1e6\n",
        "\n",
        "data_train_size_mb=size_mb(data_train.data)\n",
        "data_test_size_mb=size_mb(data_test.data)\n",
        "\n",
        "print(\n",
        "    \"%d documents-%0.3fMB(training set)\"%(len(data_train.data),data_train_size_mb)\n",
        ")\n",
        "print(\"%d documents-%0.3fMB(test set)\"%(len(data_test.data),data_test_size_mb))\n",
        "print(\"%d categories\"%len(target_names))"
      ],
      "metadata": {
        "colab": {
          "base_uri": "https://localhost:8080/"
        },
        "id": "-RfaRXezmkub",
        "outputId": "5000ed0e-e559-4d5a-cfb7-fa3f19635236"
      },
      "execution_count": 97,
      "outputs": [
        {
          "output_type": "stream",
          "name": "stdout",
          "text": [
            "data loaded\n",
            "2034 documents-3.980MB(training set)\n",
            "1353 documents-2.867MB(test set)\n",
            "4 categories\n"
          ]
        }
      ]
    },
    {
      "cell_type": "code",
      "source": [
        "#Vectorize the training and test data"
      ],
      "metadata": {
        "id": "Mrm9N7bgo7ub"
      },
      "execution_count": 49,
      "outputs": []
    },
    {
      "cell_type": "code",
      "source": [
        "#split a training set and a test set"
      ],
      "metadata": {
        "id": "AoIi7TjNpBOM"
      },
      "execution_count": 22,
      "outputs": []
    },
    {
      "cell_type": "code",
      "source": [
        "y_train,y_test=data_train.target, data_test.target"
      ],
      "metadata": {
        "id": "qybXCh2PpF6O"
      },
      "execution_count": 98,
      "outputs": []
    },
    {
      "cell_type": "code",
      "source": [
        "#Extracting features from the training data using a sparse vectorizer"
      ],
      "metadata": {
        "id": "WpJQcUCRpGk1"
      },
      "execution_count": 14,
      "outputs": []
    },
    {
      "cell_type": "code",
      "source": [
        "from time import time\n",
        "\n",
        "from sklearn.feature_extraction.text import TfidfVectorizer\n",
        "from sklearn.feature_extraction.text import HashingVectorizer\n",
        "\n",
        "t0=time()\n",
        "\n",
        "if USE_HASHING:\n",
        "  vectorizer=HashingVectorizer(\n",
        "      stop_words=\"english\", alternate_sign=False, n_features=N_FEATURES\n",
        "  )\n",
        "  X_train=vectorizer.transform(data_train.data)\n",
        "else:\n",
        "  vectorizer=TfidfVectorizer(sublinear_tf=True,max_df=0.5,stop_words=\"english\")\n",
        "  X_train=vectorizer.fit_transform(data_train.data)\n",
        "duration=time()-t0\n",
        "print(\"done in %fs at %0.3fMB/s\"% (duration,data_train_size_mb/duration))\n",
        "print(\"n_samples:%d,n_features:%d\"% X_train.shape)"
      ],
      "metadata": {
        "colab": {
          "base_uri": "https://localhost:8080/"
        },
        "id": "X692p50Jp2BF",
        "outputId": "34398ecd-e827-4164-ddb0-34e18d362a60"
      },
      "execution_count": 99,
      "outputs": [
        {
          "output_type": "stream",
          "name": "stdout",
          "text": [
            "done in 1.059735s at 3.755MB/s\n",
            "n_samples:2034,n_features:33809\n"
          ]
        }
      ]
    },
    {
      "cell_type": "code",
      "source": [
        "#Extracting features from the test data using the same vectorizer"
      ],
      "metadata": {
        "id": "u4rCPcfQsamA"
      },
      "execution_count": 27,
      "outputs": []
    },
    {
      "cell_type": "code",
      "source": [
        "t0=time()\n",
        "X_test=vectorizer.transform(data_test.data)\n",
        "duration=time()-t0\n",
        "print(\"Done in %fs at %0.3fMB/s\" %(duration, data_test_size_mb/duration))\n",
        "print(\"n_samples:%d,n_features:%d\"%X_test.shape)"
      ],
      "metadata": {
        "colab": {
          "base_uri": "https://localhost:8080/"
        },
        "id": "eyBY4GzQshHp",
        "outputId": "9ed95afd-6106-403a-d60e-26233c6aad82"
      },
      "execution_count": 100,
      "outputs": [
        {
          "output_type": "stream",
          "name": "stdout",
          "text": [
            "Done in 0.368922s at 7.773MB/s\n",
            "n_samples:1353,n_features:33809\n"
          ]
        }
      ]
    },
    {
      "cell_type": "code",
      "source": [
        "#mapping from integer feature name to original token string"
      ],
      "metadata": {
        "id": "1GzNOflPtSbZ"
      },
      "execution_count": 32,
      "outputs": []
    },
    {
      "cell_type": "code",
      "source": [
        "if USE_HASHING:\n",
        "  feature_names=None\n",
        "else:\n",
        "  feature_names=vectorizer.get_feature_names_out()\n",
        "  feature_names=np.array(feature_names)"
      ],
      "metadata": {
        "id": "Z2MyCvzntXqR"
      },
      "execution_count": 101,
      "outputs": []
    },
    {
      "cell_type": "code",
      "source": [
        "#keeping only the best features"
      ],
      "metadata": {
        "id": "n7gNHAGztj_F"
      },
      "execution_count": 65,
      "outputs": []
    },
    {
      "cell_type": "code",
      "source": [
        "from sqlalchemy.sql.base import NO_ARG\n",
        "from sklearn.feature_selection import SelectKBest, chi2\n",
        "\n",
        "if SELECT_CHI2:\n",
        "  print(\"Extracting %d best features by a chi-squared test\"%SELECT_CHI2)\n",
        "  t0=time()\n",
        "  chi2=SelectKBest(chi2,k=SELECT_CHI2)\n",
        "  X_train=chi2.fit_transform(X_train,y_train)\n",
        "  X_test=ch2.tansform(X_test)\n",
        "  if feature_names is not None:\n",
        "    #keep selected feature names\n",
        "    feature_names=feature_names[chi2.get_support()]\n",
        "  print(\"done in %fs\"%(time()-to))\n",
        "  print"
      ],
      "metadata": {
        "id": "1U8KzwU2totZ"
      },
      "execution_count": 102,
      "outputs": []
    },
    {
      "cell_type": "code",
      "source": [
        "#Benchimark classifiers"
      ],
      "metadata": {
        "id": "Mmxr_np9ubh1"
      },
      "execution_count": 36,
      "outputs": []
    },
    {
      "cell_type": "code",
      "source": [
        "#First we define small benchimarking utilities"
      ],
      "metadata": {
        "id": "WTjDl6Fkue0I"
      },
      "execution_count": 37,
      "outputs": []
    },
    {
      "cell_type": "code",
      "source": [
        "from sklearn import metrics\n",
        "from sklearn.utils.extmath import density\n",
        "\n",
        "def trim(s):\n",
        "  \"\"\"Trim string to fit on terminal (assuming 80-column display)\"\"\"\n",
        "  return s if len(s)<=80 else s[:77]+\"...\"\n",
        "\n",
        "def benchmark(clf):\n",
        "  print(\"_\"*80)\n",
        "  print(\"Training: \")\n",
        "  print(clf)\n",
        "  t0=time()\n",
        "  clf.fit(X_train,y_train)\n",
        "  train_time=time()-t0\n",
        "  print(\"train time: %0.3fs\"%train_time)\n",
        "\n",
        "  t0=time()\n",
        "  pred=clf.predict(X_test)\n",
        "  test_time=time()-t0\n",
        "  print(\"test time: %0.3fs\"%test_time)\n",
        "\n",
        "  score=metrics.accuracy_score(y_test,pred)\n",
        "  print(\"accuracy: %0.3f\"%score)\n",
        "\n",
        "  if hasattr(clf,\"coef_\"):\n",
        "    print(\"dimensionality:%d\"%clf.coef_.shape[1])\n",
        "    print(\"density:%f\"%density(clf.coef_))\n",
        "\n",
        "    if feature_names is not None:\n",
        "      print(\"top 10 keywords per class:\")\n",
        "      for i, label in enumerate(target_names):\n",
        "        top10=np.ndarray.argsort(clf.coef_[i])[-10:]\n",
        "        print(trim(\"%s:%s\"%(label,\" \".join(feature_names[top10]))))\n",
        "    print()\n",
        "\n",
        "  print(\"classification report:\")\n",
        "  print(metrics.classification_report(y_test, pred, target_names=target_names))\n",
        "\n",
        "  print(\"confusion matrix:\")\n",
        "  print(metrics.confusion_matrix(y_test,pred))\n",
        "\n",
        "  print()\n",
        "  clf_descr=str(clf).split(\"(\")[0]\n",
        "  return clf_descr,score,train_time, test_time"
      ],
      "metadata": {
        "id": "1qb2KzDeukXW"
      },
      "execution_count": 103,
      "outputs": []
    },
    {
      "cell_type": "code",
      "source": [
        "#We now train and test the datasets with 15 different classification models and get performance\n",
        "#results for each model."
      ],
      "metadata": {
        "id": "OnYDrAVnw23o"
      },
      "execution_count": 39,
      "outputs": []
    },
    {
      "cell_type": "code",
      "source": [
        "import random\n",
        "from sklearn.feature_selection import SelectFromModel\n",
        "from sklearn.linear_model import RidgeClassifier\n",
        "from sklearn.pipeline import Pipeline\n",
        "from sklearn.svm import LinearSVC\n",
        "from sklearn.linear_model import SGDClassifier\n",
        "from sklearn.linear_model import Perceptron\n",
        "from sklearn.linear_model import PassiveAggressiveClassifier\n",
        "from sklearn.naive_bayes import BernoulliNB, ComplementNB, MultinomialNB\n",
        "from sklearn.neighbors import KNeighborsClassifier\n",
        "from sklearn.neighbors import NearestCentroid\n",
        "from sklearn.ensemble import RandomForestClassifier\n",
        "\n",
        "\n",
        "results=[]\n",
        "for clf,name in(\n",
        "    (RidgeClassifier(tol=1e-2,solver=\"sag\"),\"Ridge Classifier\"),\n",
        "    #(Perceptron(max_iter=50),\"Perceptron\"),\n",
        "    #(PassiveAggressiveClassifier(max_iter=50),\"Passive-Aggressive\"),\n",
        "    #(KNeighborsClassifier(n_neighbors=10),\"KNN\"),\n",
        "    (RandomForestClassifier(),\"Random forest\"),\n",
        "):\n",
        "     print(\"=\"*80)\n",
        "     print(name)\n",
        "     results.append(benchmark(clf))\n",
        "\n",
        "for penalty in [\"l2\", \"l1\"]:\n",
        "    print(\"=\" * 80)\n",
        "    print(\"%s penalty\" % penalty.upper())\n",
        "    # Train Liblinear model\n",
        "    results.append(benchmark(LinearSVC(penalty=penalty, dual=False, tol=1e-3)))\n",
        "\n",
        "    # Train SGD model\n",
        "    results.append(benchmark(SGDClassifier(alpha=0.0001, max_iter=50, penalty=penalty)))\n",
        "\n",
        "results.append(\n",
        "    benchmark(\n",
        "        Pipeline(\n",
        "            [\n",
        "                (\n",
        "                    \"feature_selection\",\n",
        "                    SelectFromModel(LinearSVC(penalty=\"l1\", dual=False, tol=1e-3)),\n",
        "                ),\n",
        "                (\"classification\", LinearSVC(penalty=\"l2\")),\n",
        "            ]\n",
        "        )\n",
        "    )\n",
        ")\n"
      ],
      "metadata": {
        "colab": {
          "base_uri": "https://localhost:8080/"
        },
        "id": "t3YEN4RVxCeX",
        "outputId": "87425ebf-0ad3-4c46-dbdd-406bb7da6d72"
      },
      "execution_count": 104,
      "outputs": [
        {
          "output_type": "stream",
          "name": "stdout",
          "text": [
            "================================================================================\n",
            "Ridge Classifier\n",
            "________________________________________________________________________________\n",
            "Training: \n",
            "RidgeClassifier(solver='sag', tol=0.01)\n"
          ]
        },
        {
          "output_type": "stream",
          "name": "stderr",
          "text": [
            "/usr/local/lib/python3.10/dist-packages/sklearn/linear_model/_ridge.py:849: UserWarning: \"sag\" solver requires many iterations to fit an intercept with sparse inputs. Either set the solver to \"auto\" or \"sparse_cg\", or set a low \"tol\" and a high \"max_iter\" (especially if inputs are not standardized).\n",
            "  warnings.warn(\n"
          ]
        },
        {
          "output_type": "stream",
          "name": "stdout",
          "text": [
            "train time: 0.287s\n",
            "test time: 0.002s\n",
            "accuracy: 0.897\n",
            "dimensionality:33809\n",
            "density:1.000000\n",
            "top 10 keywords per class:\n",
            "alt.atheism:atheist wingate osrhe god okcforum caltech islamic atheism keith ...\n",
            "comp.graphics:animation video looking card hi 3d thanks file image graphics\n",
            "sci.space:dc flight shuttle launch pat moon sci orbit nasa space\n",
            "talk.religion.misc:jesus mitre hudson morality biblical 2000 beast mr fbi chr...\n",
            "\n",
            "classification report:\n",
            "                    precision    recall  f1-score   support\n",
            "\n",
            "       alt.atheism       0.87      0.83      0.85       319\n",
            "     comp.graphics       0.90      0.98      0.94       389\n",
            "         sci.space       0.96      0.94      0.95       394\n",
            "talk.religion.misc       0.83      0.78      0.80       251\n",
            "\n",
            "          accuracy                           0.90      1353\n",
            "         macro avg       0.89      0.88      0.88      1353\n",
            "      weighted avg       0.90      0.90      0.90      1353\n",
            "\n",
            "confusion matrix:\n",
            "[[265   9   7  38]\n",
            " [  1 381   4   3]\n",
            " [  0  22 372   0]\n",
            " [ 40  10   6 195]]\n",
            "\n",
            "================================================================================\n",
            "Random forest\n",
            "________________________________________________________________________________\n",
            "Training: \n",
            "RandomForestClassifier()\n",
            "train time: 3.159s\n",
            "test time: 0.110s\n",
            "accuracy: 0.833\n",
            "classification report:\n",
            "                    precision    recall  f1-score   support\n",
            "\n",
            "       alt.atheism       0.80      0.73      0.76       319\n",
            "     comp.graphics       0.81      0.96      0.88       389\n",
            "         sci.space       0.93      0.89      0.91       394\n",
            "talk.religion.misc       0.76      0.67      0.71       251\n",
            "\n",
            "          accuracy                           0.83      1353\n",
            "         macro avg       0.82      0.81      0.82      1353\n",
            "      weighted avg       0.83      0.83      0.83      1353\n",
            "\n",
            "confusion matrix:\n",
            "[[233  25  11  50]\n",
            " [  2 375  11   1]\n",
            " [  3  38 352   1]\n",
            " [ 53  25   6 167]]\n",
            "\n",
            "================================================================================\n",
            "L2 penalty\n",
            "________________________________________________________________________________\n",
            "Training: \n",
            "LinearSVC(dual=False, tol=0.001)\n",
            "train time: 0.143s\n",
            "test time: 0.005s\n",
            "accuracy: 0.900\n",
            "dimensionality:33809\n",
            "density:1.000000\n",
            "top 10 keywords per class:\n",
            "alt.atheism:rushdie osrhe atheist wingate okcforum caltech islamic atheism ke...\n",
            "comp.graphics:code 42 video hi animation thanks 3d file image graphics\n",
            "sci.space:planets dc pat shuttle launch sci moon nasa orbit space\n",
            "talk.religion.misc:abortion hudson 666 biblical 2000 morality mr beast fbi ch...\n",
            "\n",
            "classification report:\n",
            "                    precision    recall  f1-score   support\n",
            "\n",
            "       alt.atheism       0.87      0.83      0.85       319\n",
            "     comp.graphics       0.91      0.98      0.95       389\n",
            "         sci.space       0.96      0.95      0.95       394\n",
            "talk.religion.misc       0.83      0.79      0.81       251\n",
            "\n",
            "          accuracy                           0.90      1353\n",
            "         macro avg       0.89      0.89      0.89      1353\n",
            "      weighted avg       0.90      0.90      0.90      1353\n",
            "\n",
            "confusion matrix:\n",
            "[[266   7   8  38]\n",
            " [  2 381   3   3]\n",
            " [  1  20 373   0]\n",
            " [ 38   9   6 198]]\n",
            "\n",
            "________________________________________________________________________________\n",
            "Training: \n",
            "SGDClassifier(max_iter=50)\n",
            "train time: 0.049s\n",
            "test time: 0.003s\n",
            "accuracy: 0.902\n",
            "dimensionality:33809\n",
            "density:0.581739\n",
            "top 10 keywords per class:\n",
            "alt.atheism:osrhe charley cobb okcforum caltech wingate islamic keith atheism...\n",
            "comp.graphics:3do 42 video code hi 3d file animation image graphics\n",
            "sci.space:planets pat dc shuttle sci launch nasa moon orbit space\n",
            "talk.religion.misc:years abortion biblical 666 fbi morality mr 2000 beast chr...\n",
            "\n",
            "classification report:\n",
            "                    precision    recall  f1-score   support\n",
            "\n",
            "       alt.atheism       0.87      0.83      0.85       319\n",
            "     comp.graphics       0.92      0.98      0.95       389\n",
            "         sci.space       0.95      0.95      0.95       394\n",
            "talk.religion.misc       0.83      0.81      0.82       251\n",
            "\n",
            "          accuracy                           0.90      1353\n",
            "         macro avg       0.89      0.89      0.89      1353\n",
            "      weighted avg       0.90      0.90      0.90      1353\n",
            "\n",
            "confusion matrix:\n",
            "[[265   6  10  38]\n",
            " [  1 380   4   4]\n",
            " [  1  19 373   1]\n",
            " [ 36   7   5 203]]\n",
            "\n",
            "================================================================================\n",
            "L1 penalty\n",
            "________________________________________________________________________________\n",
            "Training: \n",
            "LinearSVC(dual=False, penalty='l1', tol=0.001)\n",
            "train time: 0.275s\n",
            "test time: 0.002s\n",
            "accuracy: 0.873\n",
            "dimensionality:33809\n",
            "density:0.005568\n",
            "top 10 keywords per class:\n",
            "alt.atheism:benedikt rice rushdie wingate bmd islamic atheism wwc keith atheists\n",
            "comp.graphics:sphere virtual 42 files windows hi image 3d 3do graphics\n",
            "sci.space:pat henry sunrise rockets dc launch flight moon orbit space\n",
            "talk.religion.misc:hudson thyagi biblical 2000 abortion kendig hare mitre chr...\n",
            "\n",
            "classification report:\n",
            "                    precision    recall  f1-score   support\n",
            "\n",
            "       alt.atheism       0.85      0.75      0.80       319\n",
            "     comp.graphics       0.89      0.97      0.93       389\n",
            "         sci.space       0.94      0.94      0.94       394\n",
            "talk.religion.misc       0.76      0.78      0.77       251\n",
            "\n",
            "          accuracy                           0.87      1353\n",
            "         macro avg       0.86      0.86      0.86      1353\n",
            "      weighted avg       0.87      0.87      0.87      1353\n",
            "\n",
            "confusion matrix:\n",
            "[[238  14  11  56]\n",
            " [  0 378   7   4]\n",
            " [  2  22 369   1]\n",
            " [ 39  12   4 196]]\n",
            "\n",
            "________________________________________________________________________________\n",
            "Training: \n",
            "SGDClassifier(max_iter=50, penalty='l1')\n",
            "train time: 0.201s\n",
            "test time: 0.003s\n",
            "accuracy: 0.889\n",
            "dimensionality:33809\n",
            "density:0.022886\n",
            "top 10 keywords per class:\n",
            "alt.atheism:penalty charley rice rushdie psilink wingate islamic keith atheis...\n",
            "comp.graphics:vga pc hi color card file animation 3do image graphics\n",
            "sci.space:sunset pat astronomy sci nasa flight moon dc orbit space\n",
            "talk.religion.misc:morality 2000 mitre homosexuality biblical abortion mr bea...\n",
            "\n",
            "classification report:\n",
            "                    precision    recall  f1-score   support\n",
            "\n",
            "       alt.atheism       0.85      0.78      0.81       319\n",
            "     comp.graphics       0.94      0.97      0.95       389\n",
            "         sci.space       0.95      0.96      0.95       394\n",
            "talk.religion.misc       0.77      0.80      0.78       251\n",
            "\n",
            "          accuracy                           0.89      1353\n",
            "         macro avg       0.88      0.88      0.88      1353\n",
            "      weighted avg       0.89      0.89      0.89      1353\n",
            "\n",
            "confusion matrix:\n",
            "[[248   7  11  53]\n",
            " [  2 376   7   4]\n",
            " [  2  11 379   2]\n",
            " [ 39   8   4 200]]\n",
            "\n",
            "________________________________________________________________________________\n",
            "Training: \n",
            "Pipeline(steps=[('feature_selection',\n",
            "                 SelectFromModel(estimator=LinearSVC(dual=False, penalty='l1',\n",
            "                                                     tol=0.001))),\n",
            "                ('classification', LinearSVC())])\n",
            "train time: 0.295s\n",
            "test time: 0.004s\n",
            "accuracy: 0.880\n",
            "classification report:\n",
            "                    precision    recall  f1-score   support\n",
            "\n",
            "       alt.atheism       0.84      0.80      0.82       319\n",
            "     comp.graphics       0.91      0.96      0.93       389\n",
            "         sci.space       0.92      0.95      0.93       394\n",
            "talk.religion.misc       0.80      0.75      0.78       251\n",
            "\n",
            "          accuracy                           0.88      1353\n",
            "         macro avg       0.87      0.86      0.87      1353\n",
            "      weighted avg       0.88      0.88      0.88      1353\n",
            "\n",
            "confusion matrix:\n",
            "[[254  10  14  41]\n",
            " [  2 374   9   4]\n",
            " [  2  18 373   1]\n",
            " [ 44  10   8 189]]\n",
            "\n"
          ]
        }
      ]
    },
    {
      "cell_type": "code",
      "source": [
        "#Add plots"
      ],
      "metadata": {
        "id": "5V-a68aW4BzI"
      },
      "execution_count": 73,
      "outputs": []
    },
    {
      "cell_type": "code",
      "source": [
        "#The bar plot indicates the accuracy, training time(normalized) and test time(normalized) of each classifier"
      ],
      "metadata": {
        "id": "hP5Ls8VS4EFZ"
      },
      "execution_count": 74,
      "outputs": []
    },
    {
      "cell_type": "code",
      "source": [
        "feature_names=np.array(feature_names)"
      ],
      "metadata": {
        "id": "rq0153mi4Qg9"
      },
      "execution_count": 105,
      "outputs": []
    },
    {
      "cell_type": "code",
      "source": [
        "import matplotlib.pyplot as plt\n",
        "\n",
        "indices=np.arange(len(results))\n",
        "\n",
        "results=[[x[i] for x in results] for i in range(4)]\n",
        "\n",
        "clf_names, score, training_time, test_time = results\n",
        "training_time = np.array(training_time) / np.max(training_time)\n",
        "test_time=np.array(test_time)/np.max(test_time)\n",
        "\n",
        "plt.figure(figsize=(12, 8))\n",
        "plt.title(\"Score\")\n",
        "plt.barh(indices, score, 0.2, label=\"score\", color=\"yellow\")\n",
        "plt.barh(indices + 0.3, training_time, 0.2, label=\"training time\", color=\"c\")\n",
        "plt.barh(indices + 0.6, test_time, 0.2, label=\"test time\", color=\"pink\")\n",
        "plt.yticks(())\n",
        "plt.legend(loc=\"best\")\n",
        "plt.subplots_adjust(left=0.25)\n",
        "plt.subplots_adjust(top=0.95)\n",
        "plt.subplots_adjust(bottom=0.05)\n",
        "\n",
        "for i, c in zip(indices,clf_names):\n",
        "  plt.text(-0.3,i,c)\n",
        "\n",
        "plt.show()"
      ],
      "metadata": {
        "colab": {
          "base_uri": "https://localhost:8080/",
          "height": 803
        },
        "id": "gUl2qDcs4Ujl",
        "outputId": "5398b06c-441a-409e-837a-de03a02924f5"
      },
      "execution_count": 106,
      "outputs": [
        {
          "output_type": "display_data",
          "data": {
            "text/plain": [
              "<Figure size 1200x800 with 1 Axes>"
            ],
            "image/png": "[encoded data removed]"
          },
          "metadata": {}
        }
      ]
    }
  ]
}