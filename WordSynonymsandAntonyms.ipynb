{
  "nbformat": 4,
  "nbformat_minor": 0,
  "metadata": {
    "colab": {
      "provenance": []
    },
    "kernelspec": {
      "name": "python3",
      "display_name": "Python 3"
    },
    "language_info": {
      "name": "python"
    }
  },
  "cells": [
    {
      "cell_type": "code",
      "execution_count": 10,
      "metadata": {
        "id": "siIW5P_WlIiY"
      },
      "outputs": [],
      "source": [
        "#WordNet Lexical Dictionary of English\n",
        "#WordNet is available in NLTK\n",
        "from nltk.corpus import wordnet"
      ]
    },
    {
      "cell_type": "code",
      "source": [
        "import nltk"
      ],
      "metadata": {
        "id": "5ISukQMPl3Lp"
      },
      "execution_count": 7,
      "outputs": []
    },
    {
      "cell_type": "code",
      "source": [
        "nltk.download('wordnet')"
      ],
      "metadata": {
        "colab": {
          "base_uri": "https://localhost:8080/"
        },
        "id": "Su8hE2ZclyPt",
        "outputId": "b0567189-098f-425f-a106-d322b8198c86"
      },
      "execution_count": 8,
      "outputs": [
        {
          "output_type": "stream",
          "name": "stderr",
          "text": [
            "[nltk_data] Downloading package wordnet to /root/nltk_data...\n"
          ]
        },
        {
          "output_type": "execute_result",
          "data": {
            "text/plain": [
              "True"
            ]
          },
          "metadata": {},
          "execution_count": 8
        }
      ]
    },
    {
      "cell_type": "code",
      "source": [
        "synomyms=[]\n",
        "antonyms=[]"
      ],
      "metadata": {
        "id": "Ab66iWT0laNd"
      },
      "execution_count": 2,
      "outputs": []
    },
    {
      "cell_type": "code",
      "source": [
        "#corresponding to each word, we will have bunch of synsets\n",
        "wordnet.synsets(\"work\")"
      ],
      "metadata": {
        "colab": {
          "base_uri": "https://localhost:8080/"
        },
        "id": "z-gtJLRJldod",
        "outputId": "c776d684-9367-4270-e927-8b9d4ab4aeda"
      },
      "execution_count": 12,
      "outputs": [
        {
          "output_type": "execute_result",
          "data": {
            "text/plain": [
              "[Synset('work.n.01'),\n",
              " Synset('work.n.02'),\n",
              " Synset('employment.n.02'),\n",
              " Synset('study.n.02'),\n",
              " Synset('work.n.05'),\n",
              " Synset('workplace.n.01'),\n",
              " Synset('oeuvre.n.01'),\n",
              " Synset('work.v.01'),\n",
              " Synset('work.v.02'),\n",
              " Synset('work.v.03'),\n",
              " Synset('function.v.01'),\n",
              " Synset('work.v.05'),\n",
              " Synset('exercise.v.03'),\n",
              " Synset('make.v.36'),\n",
              " Synset('work.v.08'),\n",
              " Synset('work.v.09'),\n",
              " Synset('work.v.10'),\n",
              " Synset('bring.v.03'),\n",
              " Synset('work.v.12'),\n",
              " Synset('cultivate.v.02'),\n",
              " Synset('work.v.14'),\n",
              " Synset('influence.v.01'),\n",
              " Synset('work.v.16'),\n",
              " Synset('work.v.17'),\n",
              " Synset('work.v.18'),\n",
              " Synset('work.v.19'),\n",
              " Synset('shape.v.02'),\n",
              " Synset('work.v.21'),\n",
              " Synset('knead.v.01'),\n",
              " Synset('exploit.v.01'),\n",
              " Synset('solve.v.01'),\n",
              " Synset('ferment.v.03'),\n",
              " Synset('sour.v.01'),\n",
              " Synset('work.v.27')]"
            ]
          },
          "metadata": {},
          "execution_count": 12
        }
      ]
    },
    {
      "cell_type": "code",
      "source": [
        "#synonyms for all words\n",
        "for syn in wordnet.synsets(\"work\"):\n",
        "    for s in syn.lemmas(): #s diff words in the synset\n",
        "        synomyms.append(s.name())\n",
        "#but, we want distinct words, so we use set\n",
        "print (set(synomyms))"
      ],
      "metadata": {
        "colab": {
          "base_uri": "https://localhost:8080/"
        },
        "id": "UIkxS8QfmDAJ",
        "outputId": "d4425f8b-1aac-4799-b08b-54e62addabbd"
      },
      "execution_count": 15,
      "outputs": [
        {
          "output_type": "stream",
          "name": "stdout",
          "text": [
            "{'piece_of_work', 'exploit', 'operate', 'exercise', 'make', 'work', 'make_for', 'wreak', 'bring', 'put_to_work', 'form', 'mould', 'cultivate', 'run', 'play', 'oeuvre', 'go', 'do_work', 'body_of_work', 'study', 'figure_out', 'solve', 'act_upon', 'knead', 'act', 'sour', 'shape', 'employment', 'function', 'work_out', 'process', 'ferment', 'work_on', 'influence', 'mold', 'lick', 'workplace', 'puzzle_out', 'turn', 'crop', 'forge'}\n"
          ]
        }
      ]
    },
    {
      "cell_type": "code",
      "source": [
        "synomyms=[]\n",
        "antonyms=[]\n",
        "wordnet.synsets(\"good\")"
      ],
      "metadata": {
        "colab": {
          "base_uri": "https://localhost:8080/"
        },
        "id": "OIJLBYedlwJF",
        "outputId": "0382e192-895c-4585-d4b4-20419624c455"
      },
      "execution_count": 16,
      "outputs": [
        {
          "output_type": "execute_result",
          "data": {
            "text/plain": [
              "[Synset('good.n.01'),\n",
              " Synset('good.n.02'),\n",
              " Synset('good.n.03'),\n",
              " Synset('commodity.n.01'),\n",
              " Synset('good.a.01'),\n",
              " Synset('full.s.06'),\n",
              " Synset('good.a.03'),\n",
              " Synset('estimable.s.02'),\n",
              " Synset('beneficial.s.01'),\n",
              " Synset('good.s.06'),\n",
              " Synset('good.s.07'),\n",
              " Synset('adept.s.01'),\n",
              " Synset('good.s.09'),\n",
              " Synset('dear.s.02'),\n",
              " Synset('dependable.s.04'),\n",
              " Synset('good.s.12'),\n",
              " Synset('good.s.13'),\n",
              " Synset('effective.s.04'),\n",
              " Synset('good.s.15'),\n",
              " Synset('good.s.16'),\n",
              " Synset('good.s.17'),\n",
              " Synset('good.s.18'),\n",
              " Synset('good.s.19'),\n",
              " Synset('good.s.20'),\n",
              " Synset('good.s.21'),\n",
              " Synset('well.r.01'),\n",
              " Synset('thoroughly.r.02')]"
            ]
          },
          "metadata": {},
          "execution_count": 16
        }
      ]
    },
    {
      "cell_type": "code",
      "source": [
        "#antonyms for all words\n",
        "for syn in wordnet.synsets(\"good\"):\n",
        "  for s in syn.lemmas():#s diff words in the synset\n",
        "      synomyms.append(s.name())\n",
        "      for a in s.antonyms():\n",
        "        antonyms.append(a.name())\n",
        "#but we want distinct words, so we use set\n",
        "print(\"syn\",set(synomyms))\n",
        "print(\"ant\",set(antonyms))"
      ],
      "metadata": {
        "colab": {
          "base_uri": "https://localhost:8080/"
        },
        "id": "TZO5R_lynGBd",
        "outputId": "9fc9ff8a-fe5f-48e9-9955-c75f8964bb10"
      },
      "execution_count": 18,
      "outputs": [
        {
          "output_type": "stream",
          "name": "stdout",
          "text": [
            "syn {'respectable', 'secure', 'honorable', 'in_force', 'unspoiled', 'trade_good', 'proficient', 'unspoilt', 'estimable', 'beneficial', 'right', 'adept', 'commodity', 'salutary', 'practiced', 'serious', 'sound', 'honest', 'just', 'effective', 'dependable', 'near', 'thoroughly', 'dear', 'skillful', 'in_effect', 'safe', 'well', 'full', 'soundly', 'good', 'upright', 'skilful', 'goodness', 'undecomposed', 'expert', 'ripe'}\n",
            "ant {'badness', 'evil', 'bad', 'ill', 'evilness'}\n"
          ]
        }
      ]
    }
  ]
}